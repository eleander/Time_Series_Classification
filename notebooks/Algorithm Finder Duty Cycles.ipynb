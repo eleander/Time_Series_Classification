{
 "cells": [
  {
   "cell_type": "code",
   "execution_count": 1,
   "id": "9f0e6f67",
   "metadata": {},
   "outputs": [],
   "source": [
    "import pandas as pd \n",
    "import numpy as np \n",
    "from sklearn.metrics import accuracy_score"
   ]
  },
  {
   "cell_type": "code",
   "execution_count": 2,
   "id": "702274d3",
   "metadata": {},
   "outputs": [],
   "source": [
    "# Helper function to get classifier name\n",
    "def get_clf_name(estimator):\n",
    "    return(estimator.__class__.__name__)\n",
    "\n",
    "def get_clf_class(estimator):\n",
    "    return clf.__class__.__module__.split(\".\")[2]\n"
   ]
  },
  {
   "cell_type": "code",
   "execution_count": 3,
   "id": "5e4c9efa",
   "metadata": {},
   "outputs": [
    {
     "name": "stderr",
     "output_type": "stream",
     "text": [
      "C:\\Users\\edwar\\anaconda3\\envs\\tsc\\lib\\site-packages\\sktime\\datatypes\\_series\\_check.py:43: FutureWarning: pandas.Int64Index is deprecated and will be removed from pandas in a future version. Use pandas.Index with the appropriate dtype instead.\n",
      "  VALID_INDEX_TYPES = (pd.Int64Index, pd.RangeIndex, pd.PeriodIndex, pd.DatetimeIndex)\n",
      "C:\\Users\\edwar\\anaconda3\\envs\\tsc\\lib\\site-packages\\sktime\\datatypes\\_hierarchical\\_check.py:50: FutureWarning: pandas.Int64Index is deprecated and will be removed from pandas in a future version. Use pandas.Index with the appropriate dtype instead.\n",
      "  VALID_INDEX_TYPES = (pd.Int64Index, pd.RangeIndex, pd.PeriodIndex, pd.DatetimeIndex)\n",
      "C:\\Users\\edwar\\anaconda3\\envs\\tsc\\lib\\site-packages\\sktime\\datatypes\\_hierarchical\\_check.py:51: FutureWarning: pandas.Int64Index is deprecated and will be removed from pandas in a future version. Use pandas.Index with the appropriate dtype instead.\n",
      "  VALID_MULTIINDEX_TYPES = (pd.Int64Index, pd.RangeIndex)\n",
      "C:\\Users\\edwar\\anaconda3\\envs\\tsc\\lib\\site-packages\\sktime\\datatypes\\_panel\\_check.py:48: FutureWarning: pandas.Int64Index is deprecated and will be removed from pandas in a future version. Use pandas.Index with the appropriate dtype instead.\n",
      "  VALID_INDEX_TYPES = (pd.Int64Index, pd.RangeIndex, pd.PeriodIndex, pd.DatetimeIndex)\n",
      "C:\\Users\\edwar\\anaconda3\\envs\\tsc\\lib\\site-packages\\sktime\\datatypes\\_panel\\_check.py:49: FutureWarning: pandas.Int64Index is deprecated and will be removed from pandas in a future version. Use pandas.Index with the appropriate dtype instead.\n",
      "  VALID_MULTIINDEX_TYPES = (pd.Int64Index, pd.RangeIndex)\n"
     ]
    }
   ],
   "source": [
    "from sktime.datatypes._panel._convert import (\n",
    "    from_2d_array_to_nested,\n",
    "    from_nested_to_2d_array,\n",
    "    is_nested_dataframe,\n",
    ")"
   ]
  },
  {
   "cell_type": "markdown",
   "id": "37e91c97",
   "metadata": {},
   "source": [
    "# Get Dataset"
   ]
  },
  {
   "cell_type": "markdown",
   "id": "592a4b41",
   "metadata": {},
   "source": [
    "1. List the names of all the files that will be used in the training  \n",
    "2. Since the values only have the x_value, specify the number used for classification (eg s1 = 1, s2 = 2)  \n",
    "3. Itterate over all file_names, create a df \n",
    "4. Convert the 2d_array dataframe into a nested df\n",
    "5. add approiate y value and append it to the df  \n",
    "4. Concatenate all the dataframes in the list  "
   ]
  },
  {
   "cell_type": "code",
   "execution_count": 4,
   "id": "a9b19b06",
   "metadata": {},
   "outputs": [],
   "source": [
    "file_names = [\"s1_no_vol\", \"s2_no_vol\"]\n",
    "\n",
    "dfs= []\n",
    "y = []\n",
    "for file_name in file_names:\n",
    "    df = pd.read_csv (\"../datasets/\"+file_name+\".csv\", nrows=100)\n",
    "    nested_df = from_2d_array_to_nested(df)\n",
    "    y.extend([file_name[1]] * df.shape[0])\n",
    "    dfs.append(nested_df)\n",
    "\n",
    "y = np.asarray(y)\n",
    "combined_df = pd.concat(dfs)"
   ]
  },
  {
   "cell_type": "code",
   "execution_count": 5,
   "id": "a175f542",
   "metadata": {},
   "outputs": [],
   "source": [
    "from sklearn.model_selection import train_test_split\n",
    "\n",
    "X_train, X_test, y_train, y_test = train_test_split(combined_df, y)"
   ]
  },
  {
   "cell_type": "markdown",
   "id": "c911539b",
   "metadata": {},
   "source": [
    "## Define the classifiers\n",
    "\n",
    "Define which classifiers that will be used and store it in a list"
   ]
  },
  {
   "cell_type": "code",
   "execution_count": 6,
   "id": "e4718b03",
   "metadata": {},
   "outputs": [],
   "source": [
    "from sktime.classification.dictionary_based import IndividualBOSS\n",
    "from sktime.classification.dictionary_based import ContractableBOSS\n",
    "\n",
    "clfs = []\n",
    "\n",
    "clfs.append(ContractableBOSS(n_parameter_samples=25, max_ensemble_size=5))\n",
    "clfs.append(IndividualBOSS())"
   ]
  },
  {
   "cell_type": "code",
   "execution_count": 7,
   "id": "a7141e4e",
   "metadata": {},
   "outputs": [],
   "source": [
    "types = []\n",
    "\n",
    "for clf in clfs: \n",
    "    types.append(get_clf_class(type))"
   ]
  },
  {
   "cell_type": "markdown",
   "id": "603f9379",
   "metadata": {},
   "source": [
    "## Classify the Dataset for every classifier\n",
    "\n",
    "Classify the dataset with each classifier and save their accuracy score"
   ]
  },
  {
   "cell_type": "code",
   "execution_count": 8,
   "id": "63711ba1",
   "metadata": {},
   "outputs": [],
   "source": [
    "acc_scores = []"
   ]
  },
  {
   "cell_type": "code",
   "execution_count": 9,
   "id": "7d11c3b8",
   "metadata": {},
   "outputs": [],
   "source": [
    "for clf in clfs: \n",
    "    clf.fit(X_train, y_train)\n",
    "    y_pred = clf.predict(X_test)\n",
    "    acc_score =accuracy_score(y_test, y_pred)\n",
    "    acc_scores.append(acc_score)"
   ]
  },
  {
   "cell_type": "markdown",
   "id": "3235f84b",
   "metadata": {},
   "source": [
    "## Sort According to Type\n"
   ]
  },
  {
   "cell_type": "code",
   "execution_count": 10,
   "id": "ff19486a",
   "metadata": {},
   "outputs": [],
   "source": [
    "types, acc_scores, clfs = zip(\n",
    "    *sorted(zip(types, acc_scores, clfs), key=lambda pair: pair[0])\n",
    ")"
   ]
  },
  {
   "cell_type": "markdown",
   "id": "40e4b002",
   "metadata": {},
   "source": [
    "## Print the results\n",
    "\n",
    "Itterate over the classifier and accuracy score and display in a nice \"table\""
   ]
  },
  {
   "cell_type": "code",
   "execution_count": 11,
   "id": "e5572f0b",
   "metadata": {
    "scrolled": false
   },
   "outputs": [
    {
     "name": "stdout",
     "output_type": "stream",
     "text": [
      "Type                Name                                    Accuracy       \n",
      "dictionary_based    ContractableBOSS                        98%            \n",
      "dictionary_based    IndividualBOSS                          90%            \n"
     ]
    }
   ],
   "source": [
    "print(f\"{'Type' : <20}{'Name' : <40}{'Accuracy' : <15}\")\n",
    "for type, clf, acc_score in zip(types, clfs, acc_scores):\n",
    "    acc_score_perc = '{:0.0f}'.format(acc_score*100)\n",
    "    print(f\"{get_clf_class(clf): <20}{get_clf_name(clf) : <40}{(acc_score_perc)+'%':<15}\")\n"
   ]
  }
 ],
 "metadata": {
  "kernelspec": {
   "display_name": "Python [conda env:tsc]",
   "language": "python",
   "name": "conda-env-tsc-py"
  },
  "language_info": {
   "codemirror_mode": {
    "name": "ipython",
    "version": 3
   },
   "file_extension": ".py",
   "mimetype": "text/x-python",
   "name": "python",
   "nbconvert_exporter": "python",
   "pygments_lexer": "ipython3",
   "version": "3.9.10"
  }
 },
 "nbformat": 4,
 "nbformat_minor": 5
}
