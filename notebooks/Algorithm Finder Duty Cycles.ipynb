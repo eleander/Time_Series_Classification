{
 "cells": [
  {
   "cell_type": "code",
   "execution_count": 142,
   "id": "7a1f5e6b",
   "metadata": {},
   "outputs": [],
   "source": [
    "import pandas as pd \n",
    "import numpy as np \n",
    "from sklearn.metrics import accuracy_score"
   ]
  },
  {
   "cell_type": "code",
   "execution_count": 143,
   "id": "c4a4b6ab",
   "metadata": {},
   "outputs": [],
   "source": [
    "# Helper function to get classifier name\n",
    "def get_clf_name(estimator):\n",
    "    return(estimator.__class__.__name__)\n",
    "\n",
    "def get_clf_class(estimator):\n",
    "    return clf.__class__.__module__.split(\".\")[2]\n"
   ]
  },
  {
   "cell_type": "code",
   "execution_count": 144,
   "id": "ee37c803",
   "metadata": {},
   "outputs": [
    {
     "data": {
      "text/plain": [
       "0.6037735849056604"
      ]
     },
     "execution_count": 144,
     "metadata": {},
     "output_type": "execute_result"
    }
   ],
   "source": [
    "from sktime.datasets import load_arrow_head\n",
    "from sktime.classification.dictionary_based import IndividualBOSS\n",
    "from sklearn.model_selection import train_test_split\n",
    "from sklearn.metrics import accuracy_score\n",
    "\n",
    "X, y = load_arrow_head(return_X_y=True)\n",
    "X_train, X_test, y_train, y_test = train_test_split(X, y)\n",
    "classifier = IndividualBOSS()\n",
    "classifier.fit(X_train, y_train)\n",
    "y_pred = classifier.predict(X_test)\n",
    "accuracy_score(y_test, y_pred)"
   ]
  },
  {
   "cell_type": "code",
   "execution_count": 145,
   "id": "4f9f2943",
   "metadata": {},
   "outputs": [
    {
     "name": "stdout",
     "output_type": "stream",
     "text": [
      "(211, 1)\n"
     ]
    }
   ],
   "source": [
    "print(X.shape)"
   ]
  },
  {
   "cell_type": "code",
   "execution_count": 146,
   "id": "6211364b",
   "metadata": {},
   "outputs": [
    {
     "name": "stdout",
     "output_type": "stream",
     "text": [
      "['0' '1' '2' '0' '1' '2' '0' '1' '2' '0' '1' '2' '0' '1' '2' '0' '1' '2'\n",
      " '0' '1' '2' '0' '1' '2' '0' '1' '2' '0' '1' '2' '0' '1' '2' '0' '1' '2'\n",
      " '0' '0' '0' '0' '0' '0' '0' '0' '0' '0' '0' '0' '0' '0' '0' '0' '0' '0'\n",
      " '0' '0' '0' '0' '0' '0' '0' '0' '0' '0' '0' '0' '0' '0' '0' '0' '0' '0'\n",
      " '0' '0' '0' '0' '0' '0' '0' '0' '0' '0' '0' '0' '0' '0' '0' '0' '0' '0'\n",
      " '0' '0' '0' '0' '0' '0' '0' '0' '0' '0' '0' '0' '0' '0' '0' '1' '1' '1'\n",
      " '1' '1' '1' '1' '1' '1' '1' '1' '1' '1' '1' '1' '1' '1' '1' '1' '1' '1'\n",
      " '1' '1' '1' '1' '1' '1' '1' '1' '1' '1' '1' '1' '1' '1' '1' '1' '1' '1'\n",
      " '1' '1' '1' '1' '1' '1' '1' '1' '1' '1' '1' '1' '1' '1' '2' '2' '2' '2'\n",
      " '2' '2' '2' '2' '2' '2' '2' '2' '2' '2' '2' '2' '2' '2' '2' '2' '2' '2'\n",
      " '2' '2' '2' '2' '2' '2' '2' '2' '2' '2' '2' '2' '2' '2' '2' '2' '2' '2'\n",
      " '2' '2' '2' '2' '2' '2' '2' '2' '2' '2' '2' '2' '2']\n"
     ]
    }
   ],
   "source": [
    "print(y)"
   ]
  },
  {
   "cell_type": "markdown",
   "id": "c0f0655b",
   "metadata": {},
   "source": [
    "# Get Dataset"
   ]
  },
  {
   "cell_type": "markdown",
   "id": "81dd1b41",
   "metadata": {},
   "source": [
    "1. List the names of all the files that will be used in the training  \n",
    "2. Since the values only have the x_value, specify the number used for classification (eg s1 = 1, s2 = 2)  \n",
    "3. Itterate over all file_names, create a df \n",
    "4. Convert the 2d_array dataframe into a nested df\n",
    "5. add approiate y value and append it to the df  \n",
    "4. Concatenate all the dataframes in the list  "
   ]
  },
  {
   "cell_type": "code",
   "execution_count": 147,
   "id": "4c453b19",
   "metadata": {},
   "outputs": [],
   "source": [
    "from sktime.datatypes._panel._convert import (\n",
    "    from_2d_array_to_nested,\n",
    "    from_nested_to_2d_array,\n",
    "    is_nested_dataframe,\n",
    ")"
   ]
  },
  {
   "cell_type": "code",
   "execution_count": 158,
   "id": "ec0d9dec",
   "metadata": {},
   "outputs": [
    {
     "name": "stdout",
     "output_type": "stream",
     "text": [
      "   0  1  2  3    4    5    6    7    8    9  ...  91  92  93  94  95  96  97  \\\n",
      "0  0  0  0  0    0    0    0    0  100  100  ...   0   0   0   0   0   0   0   \n",
      "1  0  0  0  0    0    0  100  100  100  100  ...   0   0   0   0   0   0   0   \n",
      "2  0  0  0  0  100  100  100  100  100  100  ...   0   0   0   0   0   0   0   \n",
      "\n",
      "   98  99  y  \n",
      "0   0   0  1  \n",
      "1   0   0  1  \n",
      "2   0   0  1  \n",
      "\n",
      "[3 rows x 101 columns]\n",
      "     0    1    2    3    4    5    6    7    8    9  ...   91   92   93  94  \\\n",
      "0    0    0    0    0    0    0    0    0    0    0  ...  100  100  100   0   \n",
      "1  100  100  100  100  100  100  100  100  100  100  ...    0    0    0   0   \n",
      "2    0    0    0    0    0    0    0    0    0    0  ...    0    0    0   0   \n",
      "\n",
      "   95  96  97  98  99  y  \n",
      "0   0   0   0   0   0  1  \n",
      "1   0   0   0   0   0  1  \n",
      "2   0   0   0   0   0  1  \n",
      "\n",
      "[3 rows x 101 columns]\n"
     ]
    }
   ],
   "source": [
    "file_names = [\"s1_no_vol\", \"s2_no_vol\"]\n",
    "\n",
    "dfs= []\n",
    "y = []\n",
    "for file_name in file_names:\n",
    "    df = pd.read_csv (\"../datasets/\"+file_name+\".csv\")\n",
    "    df.drop(columns=df.columns[:1],axis=1, inplace=True)\n",
    "    nested_df = from_2d_array_to_nested(df)\n",
    "    y.extend([file_name[1]] * df.shape[0])\n",
    "    dfs.append(nested_df)\n",
    "    \n",
    "combined_df = pd.concat(dfs)"
   ]
  },
  {
   "cell_type": "code",
   "execution_count": 154,
   "id": "3bd9e33b",
   "metadata": {},
   "outputs": [
    {
     "name": "stdout",
     "output_type": "stream",
     "text": [
      "(20000, 1)\n"
     ]
    }
   ],
   "source": [
    "print(combined_df.shape)"
   ]
  },
  {
   "cell_type": "code",
   "execution_count": null,
   "id": "7458c9b3",
   "metadata": {},
   "outputs": [],
   "source": []
  },
  {
   "cell_type": "code",
   "execution_count": 149,
   "id": "d1bdc0e8",
   "metadata": {},
   "outputs": [],
   "source": [
    "from sklearn.model_selection import train_test_split\n",
    "\n",
    "X_train, X_test, y_train, y_test = train_test_split(combined_df[0], y)"
   ]
  },
  {
   "cell_type": "markdown",
   "id": "75164f78",
   "metadata": {},
   "source": [
    "## Define the classifiers\n",
    "\n",
    "Define which classifiers that will be used and store it in a list"
   ]
  },
  {
   "cell_type": "code",
   "execution_count": 150,
   "id": "720c0e64",
   "metadata": {},
   "outputs": [],
   "source": [
    "from sktime.classification.dictionary_based import IndividualBOSS\n",
    "from sktime.classification.dictionary_based import ContractableBOSS\n",
    "\n",
    "clfs = []\n",
    "\n",
    "clfs.append(ContractableBOSS(n_parameter_samples=25, max_ensemble_size=5))\n",
    "clfs.append(IndividualBOSS())"
   ]
  },
  {
   "cell_type": "code",
   "execution_count": 151,
   "id": "710f0547",
   "metadata": {},
   "outputs": [],
   "source": [
    "types = []\n",
    "\n",
    "for clf in clfs: \n",
    "    types.append(get_clf_class(type))"
   ]
  },
  {
   "cell_type": "markdown",
   "id": "20c2a320",
   "metadata": {},
   "source": [
    "## Classify the Dataset for every classifier\n",
    "\n",
    "Classify the dataset with each classifier and save their accuracy score"
   ]
  },
  {
   "cell_type": "code",
   "execution_count": 152,
   "id": "c328f65e",
   "metadata": {},
   "outputs": [],
   "source": [
    "acc_scores = []"
   ]
  },
  {
   "cell_type": "code",
   "execution_count": 153,
   "id": "da7cf339",
   "metadata": {},
   "outputs": [
    {
     "ename": "TypeError",
     "evalue": "X is not of a supported input data type.X must be in a supported mtype format for Panel, found <class 'pandas.core.series.Series'>Use datatypes.check_is_mtype to check conformance with specifications.",
     "output_type": "error",
     "traceback": [
      "\u001b[1;31m---------------------------------------------------------------------------\u001b[0m",
      "\u001b[1;31mTypeError\u001b[0m                                 Traceback (most recent call last)",
      "\u001b[1;32m~\\AppData\\Local\\Temp/ipykernel_52272/2535336680.py\u001b[0m in \u001b[0;36m<module>\u001b[1;34m\u001b[0m\n\u001b[0;32m      1\u001b[0m \u001b[1;32mfor\u001b[0m \u001b[0mclf\u001b[0m \u001b[1;32min\u001b[0m \u001b[0mclfs\u001b[0m\u001b[1;33m:\u001b[0m\u001b[1;33m\u001b[0m\u001b[1;33m\u001b[0m\u001b[0m\n\u001b[1;32m----> 2\u001b[1;33m     \u001b[0mclf\u001b[0m\u001b[1;33m.\u001b[0m\u001b[0mfit\u001b[0m\u001b[1;33m(\u001b[0m\u001b[0mX_train\u001b[0m\u001b[1;33m,\u001b[0m \u001b[0my_train\u001b[0m\u001b[1;33m)\u001b[0m\u001b[1;33m\u001b[0m\u001b[1;33m\u001b[0m\u001b[0m\n\u001b[0m\u001b[0;32m      3\u001b[0m     \u001b[0my_pred\u001b[0m \u001b[1;33m=\u001b[0m \u001b[0mclf\u001b[0m\u001b[1;33m.\u001b[0m\u001b[0mpredict\u001b[0m\u001b[1;33m(\u001b[0m\u001b[0mX_test\u001b[0m\u001b[1;33m)\u001b[0m\u001b[1;33m\u001b[0m\u001b[1;33m\u001b[0m\u001b[0m\n\u001b[0;32m      4\u001b[0m     \u001b[0macc_score\u001b[0m \u001b[1;33m=\u001b[0m\u001b[0maccuracy_score\u001b[0m\u001b[1;33m(\u001b[0m\u001b[0my_test\u001b[0m\u001b[1;33m,\u001b[0m \u001b[0my_pred\u001b[0m\u001b[1;33m)\u001b[0m\u001b[1;33m\u001b[0m\u001b[1;33m\u001b[0m\u001b[0m\n\u001b[0;32m      5\u001b[0m     \u001b[0macc_scores\u001b[0m\u001b[1;33m.\u001b[0m\u001b[0mappend\u001b[0m\u001b[1;33m(\u001b[0m\u001b[0macc_score\u001b[0m\u001b[1;33m)\u001b[0m\u001b[1;33m\u001b[0m\u001b[1;33m\u001b[0m\u001b[0m\n",
      "\u001b[1;32m~\\anaconda3\\envs\\tsc\\lib\\site-packages\\sktime\\classification\\base.py\u001b[0m in \u001b[0;36mfit\u001b[1;34m(self, X, y)\u001b[0m\n\u001b[0;32m    103\u001b[0m         \u001b[1;31m# if X is 2D array, convert to 3D, if y is Series, convert to numpy\u001b[0m\u001b[1;33m\u001b[0m\u001b[1;33m\u001b[0m\u001b[0m\n\u001b[0;32m    104\u001b[0m         \u001b[0mX\u001b[0m\u001b[1;33m,\u001b[0m \u001b[0my\u001b[0m \u001b[1;33m=\u001b[0m \u001b[0m_internal_convert\u001b[0m\u001b[1;33m(\u001b[0m\u001b[0mX\u001b[0m\u001b[1;33m,\u001b[0m \u001b[0my\u001b[0m\u001b[1;33m)\u001b[0m\u001b[1;33m\u001b[0m\u001b[1;33m\u001b[0m\u001b[0m\n\u001b[1;32m--> 105\u001b[1;33m         \u001b[0mX_metadata\u001b[0m \u001b[1;33m=\u001b[0m \u001b[0m_check_classifier_input\u001b[0m\u001b[1;33m(\u001b[0m\u001b[0mX\u001b[0m\u001b[1;33m,\u001b[0m \u001b[0my\u001b[0m\u001b[1;33m)\u001b[0m\u001b[1;33m\u001b[0m\u001b[1;33m\u001b[0m\u001b[0m\n\u001b[0m\u001b[0;32m    106\u001b[0m         \u001b[0mmissing\u001b[0m \u001b[1;33m=\u001b[0m \u001b[0mX_metadata\u001b[0m\u001b[1;33m[\u001b[0m\u001b[1;34m\"has_nans\"\u001b[0m\u001b[1;33m]\u001b[0m\u001b[1;33m\u001b[0m\u001b[1;33m\u001b[0m\u001b[0m\n\u001b[0;32m    107\u001b[0m         \u001b[0mmultivariate\u001b[0m \u001b[1;33m=\u001b[0m \u001b[1;32mnot\u001b[0m \u001b[0mX_metadata\u001b[0m\u001b[1;33m[\u001b[0m\u001b[1;34m\"is_univariate\"\u001b[0m\u001b[1;33m]\u001b[0m\u001b[1;33m\u001b[0m\u001b[1;33m\u001b[0m\u001b[0m\n",
      "\u001b[1;32m~\\anaconda3\\envs\\tsc\\lib\\site-packages\\sktime\\classification\\base.py\u001b[0m in \u001b[0;36m_check_classifier_input\u001b[1;34m(X, y, enforce_min_instances)\u001b[0m\n\u001b[0;32m    413\u001b[0m     \u001b[0mX_valid\u001b[0m\u001b[1;33m,\u001b[0m \u001b[0m_\u001b[0m\u001b[1;33m,\u001b[0m \u001b[0mX_metadata\u001b[0m \u001b[1;33m=\u001b[0m \u001b[0mcheck_is_scitype\u001b[0m\u001b[1;33m(\u001b[0m\u001b[0mX\u001b[0m\u001b[1;33m,\u001b[0m \u001b[0mscitype\u001b[0m\u001b[1;33m=\u001b[0m\u001b[1;34m\"Panel\"\u001b[0m\u001b[1;33m,\u001b[0m \u001b[0mreturn_metadata\u001b[0m\u001b[1;33m=\u001b[0m\u001b[1;32mTrue\u001b[0m\u001b[1;33m)\u001b[0m\u001b[1;33m\u001b[0m\u001b[1;33m\u001b[0m\u001b[0m\n\u001b[0;32m    414\u001b[0m     \u001b[1;32mif\u001b[0m \u001b[1;32mnot\u001b[0m \u001b[0mX_valid\u001b[0m\u001b[1;33m:\u001b[0m\u001b[1;33m\u001b[0m\u001b[1;33m\u001b[0m\u001b[0m\n\u001b[1;32m--> 415\u001b[1;33m         raise TypeError(\n\u001b[0m\u001b[0;32m    416\u001b[0m             \u001b[1;34mf\"X is not of a supported input data type.\"\u001b[0m\u001b[1;33m\u001b[0m\u001b[1;33m\u001b[0m\u001b[0m\n\u001b[0;32m    417\u001b[0m             \u001b[1;34mf\"X must be in a supported mtype format for Panel, found {type(X)}\"\u001b[0m\u001b[1;33m\u001b[0m\u001b[1;33m\u001b[0m\u001b[0m\n",
      "\u001b[1;31mTypeError\u001b[0m: X is not of a supported input data type.X must be in a supported mtype format for Panel, found <class 'pandas.core.series.Series'>Use datatypes.check_is_mtype to check conformance with specifications."
     ]
    }
   ],
   "source": [
    "for clf in clfs: \n",
    "    clf.fit(X_train, y_train)\n",
    "    y_pred = clf.predict(X_test)\n",
    "    acc_score =accuracy_score(y_test, y_pred)\n",
    "    acc_scores.append(acc_score)"
   ]
  },
  {
   "cell_type": "markdown",
   "id": "a7d954e4",
   "metadata": {},
   "source": [
    "## Sort According to Type\n"
   ]
  },
  {
   "cell_type": "code",
   "execution_count": null,
   "id": "97da8d68",
   "metadata": {},
   "outputs": [],
   "source": [
    "types, acc_scores, clfs = zip(*sorted(zip(types, acc_scores, clfs)))"
   ]
  },
  {
   "cell_type": "markdown",
   "id": "28f8e38f",
   "metadata": {},
   "source": [
    "## Print the results\n",
    "\n",
    "Itterate over the classifier and accuracy score and display in a nice \"table\""
   ]
  },
  {
   "cell_type": "code",
   "execution_count": null,
   "id": "8f5e5254",
   "metadata": {
    "scrolled": false
   },
   "outputs": [],
   "source": [
    "print(f\"{'Type' : <20}{'Name' : <40}{'Accuracy' : <15}\")\n",
    "for type, clf, acc_score in zip(types, clfs, acc_scores):\n",
    "    acc_score_perc = '{:0.0f}'.format(acc_score*100)\n",
    "    print(f\"{get_clf_class(clf): <20}{get_clf_name(clf) : <40}{(acc_score_perc)+'%':<15}\")\n"
   ]
  },
  {
   "cell_type": "code",
   "execution_count": null,
   "id": "9f6a03d6",
   "metadata": {},
   "outputs": [],
   "source": []
  },
  {
   "cell_type": "code",
   "execution_count": null,
   "id": "307599a4",
   "metadata": {},
   "outputs": [],
   "source": []
  },
  {
   "cell_type": "code",
   "execution_count": null,
   "id": "06228032",
   "metadata": {},
   "outputs": [],
   "source": []
  },
  {
   "cell_type": "code",
   "execution_count": null,
   "id": "a150eaad",
   "metadata": {},
   "outputs": [],
   "source": []
  },
  {
   "cell_type": "code",
   "execution_count": null,
   "id": "31af2b85",
   "metadata": {},
   "outputs": [],
   "source": []
  },
  {
   "cell_type": "code",
   "execution_count": null,
   "id": "b1e08881",
   "metadata": {},
   "outputs": [],
   "source": []
  }
 ],
 "metadata": {
  "kernelspec": {
   "display_name": "Python [conda env:tsc]",
   "language": "python",
   "name": "conda-env-tsc-py"
  },
  "language_info": {
   "codemirror_mode": {
    "name": "ipython",
    "version": 3
   },
   "file_extension": ".py",
   "mimetype": "text/x-python",
   "name": "python",
   "nbconvert_exporter": "python",
   "pygments_lexer": "ipython3",
   "version": "3.9.10"
  }
 },
 "nbformat": 4,
 "nbformat_minor": 5
}
