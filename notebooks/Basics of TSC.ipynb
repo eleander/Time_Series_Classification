{
 "cells": [
  {
   "cell_type": "markdown",
   "id": "9ef7a1c5",
   "metadata": {},
   "source": [
    "All text describing the algorithms were taken from the api reference of Sktime.   \n",
    "https://www.sktime.org/en/stable/api_reference/classification.html# "
   ]
  },
  {
   "cell_type": "markdown",
   "id": "da8a689d",
   "metadata": {},
   "source": [
    "# Required Imports"
   ]
  },
  {
   "cell_type": "code",
   "execution_count": 1,
   "id": "4db29f55",
   "metadata": {},
   "outputs": [],
   "source": [
    "import pandas as pd \n",
    "import numpy as np \n",
    "from sklearn.metrics import accuracy_score"
   ]
  },
  {
   "cell_type": "markdown",
   "id": "b3c9fc94",
   "metadata": {},
   "source": [
    "## Dataset\n",
    "Dimensionality: univariate Series length: 251 Train cases: 36 Test cases: 175 Number of classes: 3\n",
    "\n",
    "The arrowhead data consists of outlines of the images of arrowheads. The shapes of the projectile points are converted into a time series using the angle-based method. The classification of projectile points is an important topic in anthropology. The classes are based on shape distinctions such as the presence and location of a notch in the arrow. The problem in the repository is a length normalised version of that used in Ye09shapelets. The three classes are called “Avonlea”, “Clovis” and “Mix”.”\n",
    "\n",
    "Dataset details: http://timeseriesclassification.com/description.php?Dataset=ArrowHead"
   ]
  },
  {
   "cell_type": "code",
   "execution_count": 2,
   "id": "19519d3b",
   "metadata": {
    "scrolled": false
   },
   "outputs": [
    {
     "name": "stderr",
     "output_type": "stream",
     "text": [
      "C:\\Users\\edwar\\anaconda3\\envs\\tsc\\lib\\site-packages\\sktime\\datatypes\\_series\\_check.py:43: FutureWarning: pandas.Int64Index is deprecated and will be removed from pandas in a future version. Use pandas.Index with the appropriate dtype instead.\n",
      "  VALID_INDEX_TYPES = (pd.Int64Index, pd.RangeIndex, pd.PeriodIndex, pd.DatetimeIndex)\n",
      "C:\\Users\\edwar\\anaconda3\\envs\\tsc\\lib\\site-packages\\sktime\\datatypes\\_hierarchical\\_check.py:50: FutureWarning: pandas.Int64Index is deprecated and will be removed from pandas in a future version. Use pandas.Index with the appropriate dtype instead.\n",
      "  VALID_INDEX_TYPES = (pd.Int64Index, pd.RangeIndex, pd.PeriodIndex, pd.DatetimeIndex)\n",
      "C:\\Users\\edwar\\anaconda3\\envs\\tsc\\lib\\site-packages\\sktime\\datatypes\\_hierarchical\\_check.py:51: FutureWarning: pandas.Int64Index is deprecated and will be removed from pandas in a future version. Use pandas.Index with the appropriate dtype instead.\n",
      "  VALID_MULTIINDEX_TYPES = (pd.Int64Index, pd.RangeIndex)\n",
      "C:\\Users\\edwar\\anaconda3\\envs\\tsc\\lib\\site-packages\\sktime\\datatypes\\_panel\\_check.py:48: FutureWarning: pandas.Int64Index is deprecated and will be removed from pandas in a future version. Use pandas.Index with the appropriate dtype instead.\n",
      "  VALID_INDEX_TYPES = (pd.Int64Index, pd.RangeIndex, pd.PeriodIndex, pd.DatetimeIndex)\n",
      "C:\\Users\\edwar\\anaconda3\\envs\\tsc\\lib\\site-packages\\sktime\\datatypes\\_panel\\_check.py:49: FutureWarning: pandas.Int64Index is deprecated and will be removed from pandas in a future version. Use pandas.Index with the appropriate dtype instead.\n",
      "  VALID_MULTIINDEX_TYPES = (pd.Int64Index, pd.RangeIndex)\n"
     ]
    }
   ],
   "source": [
    "from sktime.datasets import load_gunpoint\n",
    "X_train, y_train = load_gunpoint(split=\"train\", return_X_y=True)\n",
    "X_test, y_test = load_gunpoint(split=\"test\", return_X_y=True)"
   ]
  },
  {
   "cell_type": "markdown",
   "id": "b3e8af3a",
   "metadata": {},
   "source": [
    "# Dictionary Based"
   ]
  },
  {
   "cell_type": "markdown",
   "id": "f968bff8",
   "metadata": {},
   "source": [
    "## IndividualBOSS "
   ]
  },
  {
   "cell_type": "markdown",
   "id": "cd7ebc49",
   "metadata": {},
   "source": [
    "Single bag of Symbolic Fourier Approximation Symbols (IndividualBOSS).\n",
    "\n",
    "Bag of SFA Symbols Ensemble: implementation of a single BOSS Schaffer, the base classifier for the boss ensemble.\n",
    "\n",
    "Implementation of single BOSS model from Schäfer (2015)\n",
    "\n",
    "This is the underlying classifier for each classifier in the BOSS ensemble.\n",
    "\n",
    "Overview: input “n” series of length “m” and IndividualBoss performs a SFA transform to form a sparse dictionary of discretised words. The resulting dictionary is used with the BOSS distance function in a 1-nearest neighbor.\n",
    "\n",
    "Fit involves finding “n” histograms.\n",
    "\n",
    "Predict uses 1 nearest neighbor with a bespoke BOSS distance function."
   ]
  },
  {
   "cell_type": "code",
   "execution_count": 3,
   "id": "3e6e11f7",
   "metadata": {
    "scrolled": false
   },
   "outputs": [
    {
     "data": {
      "text/plain": [
       "IndividualBOSS()"
      ]
     },
     "execution_count": 3,
     "metadata": {},
     "output_type": "execute_result"
    }
   ],
   "source": [
    "from sktime.classification.dictionary_based import IndividualBOSS\n",
    "clf = IndividualBOSS()\n",
    "clf.fit(X_train, y_train)"
   ]
  },
  {
   "cell_type": "code",
   "execution_count": 4,
   "id": "6d977d37",
   "metadata": {},
   "outputs": [
    {
     "data": {
      "text/plain": [
       "0.9266666666666666"
      ]
     },
     "execution_count": 4,
     "metadata": {},
     "output_type": "execute_result"
    }
   ],
   "source": [
    "y_pred = clf.predict(X_test)\n",
    "accuracy_score(y_test, y_pred)"
   ]
  },
  {
   "cell_type": "markdown",
   "id": "85cee4b6",
   "metadata": {},
   "source": [
    "## BOSSEnsemble (BOSS)"
   ]
  },
  {
   "cell_type": "markdown",
   "id": "35546b89",
   "metadata": {},
   "source": [
    "Ensemble of bag of Symbolic Fourier Approximation Symbols (BOSS).\n",
    "\n",
    "Implementation of BOSS Ensemble from Schäfer (2015). [1]\n",
    "\n",
    "Overview: Input “n” series of length “m” and BOSS performs a grid search over a set of parameter values, evaluating each with a LOOCV. It then retains all ensemble members within 92% of the best by default for use in the ensemble. There are three primary parameters:\n",
    "\n",
    "- alpha: alphabet size\n",
    "- w: window length\n",
    "- l: word length.\n",
    "\n",
    "For any combination, a single BOSS slides a window length “w” along the series. The w length window is shortened to an “l” length word through taking a Fourier transform and keeping the first l/2 complex coefficients. These “l” coefficients are then discretized into alpha possible values, to form a word length “l”. A histogram of words for each series is formed and stored.\n",
    "\n",
    "Fit involves finding “n” histograms.\n",
    "\n",
    "Predict uses 1 nearest neighbor with a bespoke BOSS distance function."
   ]
  },
  {
   "cell_type": "code",
   "execution_count": 5,
   "id": "92570853",
   "metadata": {},
   "outputs": [
    {
     "data": {
      "text/plain": [
       "BOSSEnsemble(max_ensemble_size=5)"
      ]
     },
     "execution_count": 5,
     "metadata": {},
     "output_type": "execute_result"
    }
   ],
   "source": [
    "from sktime.classification.dictionary_based import BOSSEnsemble\n",
    "clf = BOSSEnsemble(max_ensemble_size=5)\n",
    "clf.fit(X_train, y_train)"
   ]
  },
  {
   "cell_type": "code",
   "execution_count": 6,
   "id": "83fe4139",
   "metadata": {},
   "outputs": [
    {
     "data": {
      "text/plain": [
       "1.0"
      ]
     },
     "execution_count": 6,
     "metadata": {},
     "output_type": "execute_result"
    }
   ],
   "source": [
    "y_pred = clf.predict(X_test)\n",
    "accuracy_score(y_test, y_pred)"
   ]
  },
  {
   "cell_type": "markdown",
   "id": "cc06baf2",
   "metadata": {},
   "source": [
    "## ContractableBOSS (CBOSS)"
   ]
  },
  {
   "cell_type": "markdown",
   "id": "27fca8b1",
   "metadata": {},
   "source": [
    "Contractable Bag of Symbolic Fourier Approximation Symbols (cBOSS).\n",
    "\n",
    "Implementation of BOSS Ensemble from Schäfer (2015) with refinements described in Middlehurst, Vickers and Bagnall (2019). [1, 2]_\n",
    "\n",
    "Overview: Input “n” series of length “m” and cBOSS randomly samples n_parameter_samples parameter sets, evaluting each with LOOCV. It then retains max_ensemble_size classifiers with the highest accuracy There are three primary parameters:\n",
    "\n",
    "- alpha: alphabet size\n",
    "- w: window length\n",
    "- l: word length.\n",
    "\n",
    "For any combination, a single BOSS slides a window length “w” along the series. The “w” length window is shortened to an “l” length word by taking a Fourier transform and keeping the first l/2 complex coefficients. These “l” coefficients are then discretised into “alpha” possible values, to form a word length “l”. A histogram of words for each series is formed and stored.\n",
    "\n",
    "Fit involves finding “n” histograms.\n",
    "\n",
    "Predict uses 1 nearest neighbor with a bespoke BOSS distance function."
   ]
  },
  {
   "cell_type": "code",
   "execution_count": 7,
   "id": "b16e1253",
   "metadata": {},
   "outputs": [
    {
     "data": {
      "text/plain": [
       "ContractableBOSS(max_ensemble_size=5, n_parameter_samples=25)"
      ]
     },
     "execution_count": 7,
     "metadata": {},
     "output_type": "execute_result"
    }
   ],
   "source": [
    "from sktime.classification.dictionary_based import ContractableBOSS\n",
    "clf = ContractableBOSS(n_parameter_samples=25, max_ensemble_size=5)\n",
    "clf.fit(X_train, y_train)"
   ]
  },
  {
   "cell_type": "code",
   "execution_count": 8,
   "id": "db670e93",
   "metadata": {
    "scrolled": true
   },
   "outputs": [
    {
     "data": {
      "text/plain": [
       "0.9933333333333333"
      ]
     },
     "execution_count": 8,
     "metadata": {},
     "output_type": "execute_result"
    }
   ],
   "source": [
    "y_pred = clf.predict(X_test)\n",
    "accuracy_score(y_test, y_pred)"
   ]
  },
  {
   "cell_type": "markdown",
   "id": "b4407094",
   "metadata": {},
   "source": [
    "# Distance Based\n"
   ]
  },
  {
   "cell_type": "markdown",
   "id": "6506b48e",
   "metadata": {},
   "source": [
    "## KNN Time Series Classifier.\n",
    "\n"
   ]
  },
  {
   "cell_type": "markdown",
   "id": "5613126b",
   "metadata": {},
   "source": [
    "KNN Time Series Classifier.\n",
    "\n",
    "An adapted version of the scikit-learn KNeighborsClassifier to work with time series data.\n",
    "\n",
    "Necessary changes required for time series data:\n",
    "- calls to X.shape in kneighbors, predict and predict_proba. In the base class, these methods contain:\n",
    "\n",
    "```python\n",
    "n_samples, _ = X.shape\n",
    "```\n",
    "\n",
    "This however assumes that data must be 2d (a set of multivariate time series is 3d). Therefore these methods needed to be overridden to change this call to the following to support 3d data:\n",
    "```python\n",
    "n_samples = X.shape[0]\n",
    "```\n",
    "- check array has been disabled. This method allows nd data via an argument in the method header. However, there\n",
    "seems to be no way to set this in the classifier and allow it to propagate down to the method. Therefore, this method has been temporarily disabled (and then re-enabled). It is unclear how to fix this issue without either writing a new classifier from scratch or changing the scikit-learn implementation. TO-DO: find permanent resolution to this issue (raise as an issue on sklearn GitHub?)"
   ]
  },
  {
   "cell_type": "code",
   "execution_count": 9,
   "id": "4213265d",
   "metadata": {},
   "outputs": [
    {
     "data": {
      "text/plain": [
       "KNeighborsTimeSeriesClassifier()"
      ]
     },
     "execution_count": 9,
     "metadata": {},
     "output_type": "execute_result"
    }
   ],
   "source": [
    "from sktime.classification.distance_based import KNeighborsTimeSeriesClassifier\n",
    "classifier = KNeighborsTimeSeriesClassifier()\n",
    "classifier.fit(X_train, y_train)"
   ]
  },
  {
   "cell_type": "code",
   "execution_count": 10,
   "id": "07d9b23b",
   "metadata": {},
   "outputs": [
    {
     "data": {
      "text/plain": [
       "0.9933333333333333"
      ]
     },
     "execution_count": 10,
     "metadata": {},
     "output_type": "execute_result"
    }
   ],
   "source": [
    "y_pred = clf.predict(X_test)\n",
    "accuracy_score(y_test, y_pred)"
   ]
  },
  {
   "cell_type": "markdown",
   "id": "4c401cdb",
   "metadata": {},
   "source": [
    "## Elastic Ensemble (EE)"
   ]
  },
  {
   "cell_type": "markdown",
   "id": "350cad8d",
   "metadata": {},
   "source": [
    "The Elastic Ensemble (EE).\n",
    "\n",
    "EE as described in [1].\n",
    "\n",
    "Overview:\n",
    "Input n series length m\n",
    "EE is an ensemble of elastic nearest neighbor classifiers"
   ]
  },
  {
   "cell_type": "code",
   "execution_count": 11,
   "id": "20806931",
   "metadata": {},
   "outputs": [
    {
     "data": {
      "text/plain": [
       "ElasticEnsemble(distance_measures=['dtw', 'ddtw', 'wdtw', 'wddtw', 'lcss',\n",
       "                                   'erp', 'msm'],\n",
       "                proportion_of_param_options=0.1, proportion_train_for_test=0.1)"
      ]
     },
     "execution_count": 11,
     "metadata": {},
     "output_type": "execute_result"
    }
   ],
   "source": [
    "from sktime.classification.distance_based import ElasticEnsemble\n",
    "clf = ElasticEnsemble(\n",
    "    proportion_of_param_options=0.1,\n",
    "    proportion_train_for_test=0.1,\n",
    ")\n",
    "clf.fit(X_train, y_train)"
   ]
  },
  {
   "cell_type": "code",
   "execution_count": 12,
   "id": "bb6dd1f5",
   "metadata": {},
   "outputs": [
    {
     "data": {
      "text/plain": [
       "0.9866666666666667"
      ]
     },
     "execution_count": 12,
     "metadata": {},
     "output_type": "execute_result"
    }
   ],
   "source": [
    "y_pred = clf.predict(X_test)\n",
    "accuracy_score(y_test, y_pred)"
   ]
  },
  {
   "cell_type": "markdown",
   "id": "47fbbb2d",
   "metadata": {},
   "source": [
    "## Proximity Forest (PF)"
   ]
  },
  {
   "cell_type": "markdown",
   "id": "193cea63",
   "metadata": {},
   "source": [
    "Proximity Forest class.\n",
    "\n",
    "Models a decision tree forest which uses distance measures to partition data [1]."
   ]
  },
  {
   "cell_type": "code",
   "execution_count": 13,
   "id": "46d87d8d",
   "metadata": {},
   "outputs": [
    {
     "data": {
      "text/plain": [
       "ProximityForest(distance_measure=<function distance_predefined_params.<locals>.distance at 0x0000013D444AE040>,\n",
       "                get_distance_measure=<function setup_all_distance_measure_getter.<locals>.pick_rand_distance_measure at 0x0000013D7D53F790>,\n",
       "                n_estimators=5,\n",
       "                random_state=RandomState(MT19937) at 0x13D76904040)"
      ]
     },
     "execution_count": 13,
     "metadata": {},
     "output_type": "execute_result"
    }
   ],
   "source": [
    "from sktime.classification.distance_based import ProximityForest\n",
    "clf = ProximityForest(n_estimators=5)\n",
    "clf.fit(X_train, y_train)"
   ]
  },
  {
   "cell_type": "code",
   "execution_count": 14,
   "id": "d18534a4",
   "metadata": {},
   "outputs": [
    {
     "data": {
      "text/plain": [
       "0.96"
      ]
     },
     "execution_count": 14,
     "metadata": {},
     "output_type": "execute_result"
    }
   ],
   "source": [
    "y_pred = clf.predict(X_test)\n",
    "accuracy_score(y_test, y_pred)"
   ]
  },
  {
   "cell_type": "markdown",
   "id": "4caf6828",
   "metadata": {},
   "source": [
    "# Hybrid"
   ]
  },
  {
   "cell_type": "markdown",
   "id": "af99b71c",
   "metadata": {},
   "source": [
    "## HIVECOTEV2"
   ]
  },
  {
   "cell_type": "markdown",
   "id": "e096bcbd",
   "metadata": {},
   "source": [
    "Hierarchical Vote Collective of Transformation-based Ensembles (HIVE-COTE) V2.\n",
    "\n",
    "An ensemble of the STC, DrCIF, Arsenal and TDE classifiers from different feature representations using the CAWPE structure as described in [1]."
   ]
  },
  {
   "cell_type": "code",
   "execution_count": 15,
   "id": "c4fb7ca7",
   "metadata": {},
   "outputs": [
    {
     "data": {
      "text/plain": [
       "HIVECOTEV2(arsenal_params={'n_estimators': 5, 'num_kernels': 100},\n",
       "           drcif_params={'n_estimators': 10},\n",
       "           stc_params={'batch_size': 100,\n",
       "                       'estimator': RotationForest(n_estimators=3),\n",
       "                       'max_shapelets': 20, 'n_shapelet_samples': 500},\n",
       "           tde_params={'max_ensemble_size': 5, 'n_parameter_samples': 25,\n",
       "                       'randomly_selected_params': 10})"
      ]
     },
     "execution_count": 15,
     "metadata": {},
     "output_type": "execute_result"
    }
   ],
   "source": [
    "from sktime.classification.hybrid import HIVECOTEV2\n",
    "from sktime.contrib.vector_classifiers._rotation_forest import RotationForest\n",
    "clf = HIVECOTEV2(\n",
    "    stc_params={\n",
    "        \"estimator\": RotationForest(n_estimators=3),\n",
    "        \"n_shapelet_samples\": 500,\n",
    "        \"max_shapelets\": 20,\n",
    "        \"batch_size\": 100,\n",
    "    },\n",
    "    drcif_params={\"n_estimators\": 10},\n",
    "    arsenal_params={\"num_kernels\": 100, \"n_estimators\": 5},\n",
    "    tde_params={\n",
    "        \"n_parameter_samples\": 25,\n",
    "        \"max_ensemble_size\": 5,\n",
    "        \"randomly_selected_params\": 10,\n",
    "    },\n",
    ")\n",
    "clf.fit(X_train, y_train)"
   ]
  },
  {
   "cell_type": "code",
   "execution_count": 16,
   "id": "0fc6a003",
   "metadata": {},
   "outputs": [
    {
     "data": {
      "text/plain": [
       "1.0"
      ]
     },
     "execution_count": 16,
     "metadata": {},
     "output_type": "execute_result"
    }
   ],
   "source": [
    "y_pred = clf.predict(X_test)\n",
    "accuracy_score(y_test, y_pred)"
   ]
  },
  {
   "cell_type": "markdown",
   "id": "ca8864d8",
   "metadata": {},
   "source": [
    "# Interval Based"
   ]
  },
  {
   "cell_type": "markdown",
   "id": "af07ca9b",
   "metadata": {},
   "source": [
    "## Time Series Forest (TSF)"
   ]
  },
  {
   "cell_type": "markdown",
   "id": "35004e88",
   "metadata": {},
   "source": [
    "Time series forest classifier.\n",
    "\n",
    "A time series forest is an ensemble of decision trees built on random intervals. Overview: Input n series length m. For each tree\n",
    "\n",
    "- sample sqrt(m) intervals,\n",
    "- find mean, std and slope for each interval, concatenate to form newdata set, \n",
    "- build decision tree on new data set.\n",
    "\n",
    "Ensemble the trees with averaged probability estimates.\n",
    "\n",
    "This implementation deviates from the original in minor ways. It samples intervals with replacement and does not use the splitting criteria tiny refinement described in [1].\n",
    "\n",
    "This is an intentionally stripped down, non configurable version for use as a hive-cote component. For a configurable tree based ensemble, see sktime.classifiers.ensemble.TimeSeriesForestClassifier"
   ]
  },
  {
   "cell_type": "code",
   "execution_count": 17,
   "id": "60cf7fb6",
   "metadata": {},
   "outputs": [
    {
     "data": {
      "text/plain": [
       "TimeSeriesForestClassifier(n_estimators=10)"
      ]
     },
     "execution_count": 17,
     "metadata": {},
     "output_type": "execute_result"
    }
   ],
   "source": [
    "from sktime.classification.interval_based import TimeSeriesForestClassifier\n",
    "clf = TimeSeriesForestClassifier(n_estimators=10)\n",
    "clf.fit(X_train, y_train)"
   ]
  },
  {
   "cell_type": "code",
   "execution_count": 18,
   "id": "aa14f829",
   "metadata": {},
   "outputs": [
    {
     "data": {
      "text/plain": [
       "0.96"
      ]
     },
     "execution_count": 18,
     "metadata": {},
     "output_type": "execute_result"
    }
   ],
   "source": [
    "y_pred = clf.predict(X_test)\n",
    "accuracy_score(y_test, y_pred)"
   ]
  },
  {
   "cell_type": "markdown",
   "id": "860d3fe8",
   "metadata": {},
   "source": [
    "## RandomIntervalSpectralEnsemble (RISE)"
   ]
  },
  {
   "cell_type": "markdown",
   "id": "5bc79cfe",
   "metadata": {},
   "source": [
    "Random Interval Spectral Ensemble (RISE).\n",
    "\n",
    "Input: n series length m For each tree\n",
    "\n",
    "- sample a random intervals\n",
    "- take the ACF and PS over this interval, and concatenate features\n",
    "- build tree on new features\n",
    "\n",
    "Ensemble the trees through averaging probabilities."
   ]
  },
  {
   "cell_type": "code",
   "execution_count": 19,
   "id": "adaca8be",
   "metadata": {},
   "outputs": [
    {
     "data": {
      "text/plain": [
       "RandomIntervalSpectralEnsemble(n_estimators=10)"
      ]
     },
     "execution_count": 19,
     "metadata": {},
     "output_type": "execute_result"
    }
   ],
   "source": [
    "from sktime.classification.interval_based import RandomIntervalSpectralEnsemble\n",
    "clf = RandomIntervalSpectralEnsemble(n_estimators=10)\n",
    "clf.fit(X_train, y_train)"
   ]
  },
  {
   "cell_type": "code",
   "execution_count": 20,
   "id": "75e043d8",
   "metadata": {},
   "outputs": [
    {
     "data": {
      "text/plain": [
       "0.98"
      ]
     },
     "execution_count": 20,
     "metadata": {},
     "output_type": "execute_result"
    }
   ],
   "source": [
    "y_pred = clf.predict(X_test)\n",
    "accuracy_score(y_test, y_pred)"
   ]
  },
  {
   "cell_type": "markdown",
   "id": "9412e160",
   "metadata": {},
   "source": [
    "# Shaplet"
   ]
  },
  {
   "cell_type": "markdown",
   "id": "f7056e25",
   "metadata": {},
   "source": [
    "## ShapletTransform"
   ]
  },
  {
   "cell_type": "markdown",
   "id": "66dd37de",
   "metadata": {},
   "source": [
    "Shapelet Transform Classifier.\n",
    "\n",
    "Implementation of the binary shapelet transform classifier along the lines of [Rdd57c5f36417-1]_[Rdd57c5f36417-2]_. Transforms the data using the configurable shapelet transform and then builds a rotation forest classifier. As some implementations and applications contract the classifier solely, contracting is available for the transform only and both classifier and transform."
   ]
  },
  {
   "cell_type": "code",
   "execution_count": 21,
   "id": "610d07a1",
   "metadata": {},
   "outputs": [
    {
     "data": {
      "text/plain": [
       "ShapeletTransformClassifier(estimator=RotationForest(n_estimators=3),\n",
       "                            max_shapelets=20, n_shapelet_samples=500)"
      ]
     },
     "execution_count": 21,
     "metadata": {},
     "output_type": "execute_result"
    }
   ],
   "source": [
    "from sktime.classification.shapelet_based import ShapeletTransformClassifier\n",
    "from sktime.contrib.vector_classifiers._rotation_forest import RotationForest\n",
    "clf = ShapeletTransformClassifier(\n",
    "    estimator=RotationForest(n_estimators=3),\n",
    "    n_shapelet_samples=500,\n",
    "    max_shapelets=20,\n",
    "    batch_size=100,\n",
    ")\n",
    "clf.fit(X_train, y_train)"
   ]
  },
  {
   "cell_type": "code",
   "execution_count": 22,
   "id": "46065b33",
   "metadata": {},
   "outputs": [
    {
     "data": {
      "text/plain": [
       "0.9733333333333334"
      ]
     },
     "execution_count": 22,
     "metadata": {},
     "output_type": "execute_result"
    }
   ],
   "source": [
    "y_pred = clf.predict(X_test)\n",
    "accuracy_score(y_test, y_pred)"
   ]
  },
  {
   "cell_type": "code",
   "execution_count": null,
   "id": "9e765b2e",
   "metadata": {},
   "outputs": [],
   "source": []
  }
 ],
 "metadata": {
  "kernelspec": {
   "display_name": "Python [conda env:tsc]",
   "language": "python",
   "name": "conda-env-tsc-py"
  },
  "language_info": {
   "codemirror_mode": {
    "name": "ipython",
    "version": 3
   },
   "file_extension": ".py",
   "mimetype": "text/x-python",
   "name": "python",
   "nbconvert_exporter": "python",
   "pygments_lexer": "ipython3",
   "version": "3.9.10"
  }
 },
 "nbformat": 4,
 "nbformat_minor": 5
}
