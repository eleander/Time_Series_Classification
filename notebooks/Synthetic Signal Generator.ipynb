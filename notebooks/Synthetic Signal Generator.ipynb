{
 "cells": [
  {
   "cell_type": "markdown",
   "id": "f801926b",
   "metadata": {},
   "source": [
    "# Pseudo Code \n",
    "\n",
    "For S1 and S2\n",
    "\n",
    "1) First define when is cutoff between S1 or S2 (eg. 30 minutes long operation)  \n",
    "2) Use the above value as the upper bound of S1   \n",
    "3) Use the above value as the lower bound of S2  \n",
    "4) Create a piecewise function where if x<a, return 0, x>b return 0 and if a<x<b, return a value (eg. 10)  "
   ]
  },
  {
   "cell_type": "code",
   "execution_count": 1,
   "id": "a3aa6883",
   "metadata": {},
   "outputs": [],
   "source": [
    "import random\n",
    "import matplotlib.pyplot as plt\n",
    "import numpy as np\n",
    "import pandas as pd"
   ]
  },
  {
   "cell_type": "code",
   "execution_count": 2,
   "id": "7bd6770b",
   "metadata": {},
   "outputs": [],
   "source": [
    "start_time = 30\n",
    "end_time = 100\n",
    "cutoff = 30\n",
    "power = 10"
   ]
  },
  {
   "cell_type": "markdown",
   "id": "1727c3ae",
   "metadata": {},
   "source": [
    "## S1"
   ]
  },
  {
   "cell_type": "code",
   "execution_count": 3,
   "id": "fa457bc9",
   "metadata": {},
   "outputs": [],
   "source": [
    "# Function to create the a and b constant of S1\n",
    "# Rule: b - a < cutoff \n",
    "def s1_constants(): \n",
    "    a = random.randint(0, start_time)\n",
    "    b = random.randint(a, a + cutoff)\n",
    "    return a,b\n",
    "\n",
    "# Given a and b \n",
    "# If x < a, return 0 because motor didn't start yet\n",
    "# If a < x < b, return power since motor is active\n",
    "# If x > b, return 0 because motor stopped operation\n",
    "def s1(x,a,b):\n",
    " if(x < a): return 0\n",
    " if(a<=x<=b): return power \n",
    " else: return 0"
   ]
  },
  {
   "cell_type": "code",
   "execution_count": 4,
   "id": "8b3f3df3",
   "metadata": {
    "scrolled": true
   },
   "outputs": [
    {
     "data": {
      "image/png": "[encoded data removed]",
      "text/plain": [
       "<Figure size 432x288 with 1 Axes>"
      ]
     },
     "metadata": {
      "needs_background": "light"
     },
     "output_type": "display_data"
    }
   ],
   "source": [
    "\n",
    "\n",
    "\n",
    "# Return a numpy array starting at 0-end_time with 1 as the increment\n",
    "x = np.arange(0, end_time, 1)\n",
    "\n",
    "# Get the a and b constant for this run\n",
    "a, b = s1_constants()\n",
    "\n",
    "# Use the s1 function to get the results for each time\n",
    "y = []\n",
    "for i in range(len(x)):\n",
    "   y.append(s1(x[i], a, b))\n",
    "\n",
    "# Plot the results\n",
    "plt.plot(x,y,color='blue', label =\"S1\")\n",
    "ax = plt.gca()\n",
    "ax.set_ylim([-0.1, power+1])\n",
    "ax.legend()\n",
    "plt.xlabel(\"Time (min)\")\n",
    "plt.ylabel(\"Power (W)\")\n",
    "\n",
    "plt.show()"
   ]
  },
  {
   "cell_type": "markdown",
   "id": "4a3a6ffd",
   "metadata": {},
   "source": [
    "## S2"
   ]
  },
  {
   "cell_type": "code",
   "execution_count": 5,
   "id": "876b0d30",
   "metadata": {},
   "outputs": [],
   "source": [
    "import random\n",
    "\n",
    "# Function to create the a and b constant of S2\n",
    "# Rule: b - a > cutoff\n",
    "def s2_constants(): \n",
    "    a = random.randint(0, start_time)\n",
    "    b = random.randint(a+cutoff, end_time)\n",
    "    return a,b\n",
    "\n",
    "# Given a and b \n",
    "# If x < a, return 0 because motor didn't start yet\n",
    "# If a < x < b, return power since motor is active\n",
    "# If x > b, return 0 because motor stopped operation\n",
    "def s2(x,a,b):\n",
    " if(x < a): return 0\n",
    " if(a<=x<=b): return power \n",
    " else: return 0"
   ]
  },
  {
   "cell_type": "code",
   "execution_count": 6,
   "id": "99dea0bf",
   "metadata": {
    "scrolled": true
   },
   "outputs": [
    {
     "data": {
      "image/png": "[encoded data removed]",
      "text/plain": [
       "<Figure size 432x288 with 1 Axes>"
      ]
     },
     "metadata": {
      "needs_background": "light"
     },
     "output_type": "display_data"
    }
   ],
   "source": [
    "# Return a numpy array starting at 0-end_time with 1 as the increment\n",
    "x = np.arange(0, end_time, 1)\n",
    "\n",
    "# Get the a and b constant for this run\n",
    "a, b = s2_constants()\n",
    "\n",
    "# Use the s1 function to get the results for each time\n",
    "y = []\n",
    "for i in range(len(x)):\n",
    "   y.append(s2(x[i], a, b))\n",
    "\n",
    "# Plot the results\n",
    "plt.plot(x,y,color='blue', label =\"S2\")\n",
    "ax = plt.gca()\n",
    "ax.set_ylim([-0.1, power+1])\n",
    "ax.legend()\n",
    "plt.xlabel(\"Time (min)\")\n",
    "plt.ylabel(\"Power (W)\")\n",
    "\n",
    "plt.show()"
   ]
  },
  {
   "cell_type": "markdown",
   "id": "d69d7b96",
   "metadata": {},
   "source": [
    "# Create Dataframe using Piecewise Function\n",
    "\n",
    "https://www.geeksforgeeks.org/create-a-pandas-dataframe-from-a-numpy-array-and-specify-the-index-column-and-column-headers/"
   ]
  },
  {
   "cell_type": "code",
   "execution_count": 7,
   "id": "25cefe1d",
   "metadata": {},
   "outputs": [],
   "source": [
    "lists = []\n",
    "\n",
    "# Generate a run of S1\n",
    "def s1_generator():\n",
    "    # Return a numpy array starting at 0-end_time with 1 as the increment\n",
    "    x = np.arange(0, end_time, 1)\n",
    "\n",
    "    # Get the a and b constant for this run\n",
    "    a, b = s1_constants()\n",
    "\n",
    "    # Use the s1 function to get the results for each time\n",
    "    y = []\n",
    "    for i in range(len(x)):\n",
    "       y.append(s1(x[i], a, b))\n",
    "    return y\n",
    "\n",
    "# Generate a run of s2\n",
    "def s2_generator():\n",
    "    # Return a numpy array starting at 0-end_time with 1 as the increment\n",
    "    x = np.arange(0, end_time, 1)\n",
    "\n",
    "    # Get the a and b constant for this run\n",
    "    a, b = s2_constants()\n",
    "\n",
    "    # Use the s1 function to get the results for each time\n",
    "    y = []\n",
    "    for i in range(len(x)):\n",
    "       y.append(s2(x[i], a, b))\n",
    "    return y"
   ]
  },
  {
   "cell_type": "code",
   "execution_count": 8,
   "id": "257fdd7a",
   "metadata": {},
   "outputs": [],
   "source": [
    "# For each run, append to lists\n",
    "# In this case, only s1 was used so that it could be tested\n",
    "runs = 3\n",
    "lists = []\n",
    "for val in range(runs): \n",
    "    lists.append(s1_generator())"
   ]
  },
  {
   "cell_type": "code",
   "execution_count": 9,
   "id": "66675c20",
   "metadata": {},
   "outputs": [],
   "source": [
    "# Convert the list of lists into a numpy array\n",
    "numpyArray = np.array(lists)\n",
    "\n",
    "# Create a dataframe where each row is a run\n",
    "panda_df = pd.DataFrame(data = numpyArray,\n",
    "                        index = ['Run_' + str(i + 1) \n",
    "                        for i in range(numpyArray.shape[0])],\n",
    "                        columns = x)"
   ]
  },
  {
   "cell_type": "code",
   "execution_count": 10,
   "id": "2e380b92",
   "metadata": {
    "scrolled": true
   },
   "outputs": [
    {
     "name": "stdout",
     "output_type": "stream",
     "text": [
      "3\n"
     ]
    }
   ],
   "source": [
    "print(panda_df.shape[0]  )"
   ]
  },
  {
   "cell_type": "markdown",
   "id": "8672822b",
   "metadata": {},
   "source": [
    "## Plotting Every Run"
   ]
  },
  {
   "cell_type": "code",
   "execution_count": 11,
   "id": "fb865958",
   "metadata": {},
   "outputs": [
    {
     "data": {
      "image/png": "[encoded data removed]",
      "text/plain": [
       "<Figure size 432x288 with 1 Axes>"
      ]
     },
     "metadata": {
      "needs_background": "light"
     },
     "output_type": "display_data"
    }
   ],
   "source": [
    "# X-axis: df.columns becuase each column is a time value\n",
    "# Y-axis: df.iloc[row, :] because each value in the row is the current power value at time x \n",
    "for i in range (panda_df.shape[0]):\n",
    "    plt.plot(panda_df.columns,panda_df.iloc[i,:], label = \"Run \"+str(i))\n",
    "\n",
    "ax = plt.gca()\n",
    "ax.set_ylim([-0.1, power+1])\n",
    "ax.legend()\n",
    "plt.xlabel(\"Time (min)\")\n",
    "plt.ylabel(\"Power (W)\")\n",
    "\n",
    "plt.show()   "
   ]
  },
  {
   "cell_type": "code",
   "execution_count": null,
   "id": "0e7544b2",
   "metadata": {},
   "outputs": [],
   "source": []
  }
 ],
 "metadata": {
  "kernelspec": {
   "display_name": "Python [conda env:tsc]",
   "language": "python",
   "name": "conda-env-tsc-py"
  },
  "language_info": {
   "codemirror_mode": {
    "name": "ipython",
    "version": 3
   },
   "file_extension": ".py",
   "mimetype": "text/x-python",
   "name": "python",
   "nbconvert_exporter": "python",
   "pygments_lexer": "ipython3",
   "version": "3.9.10"
  }
 },
 "nbformat": 4,
 "nbformat_minor": 5
}
