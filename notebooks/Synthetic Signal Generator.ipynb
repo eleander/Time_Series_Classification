{
 "cells": [
  {
   "cell_type": "markdown",
   "id": "f801926b",
   "metadata": {},
   "source": [
    "# Pseudo Code \n",
    "\n",
    "For S1 and S2\n",
    "\n",
    "1) First define when is cutoff between S1 or S2 (eg. 30 minutes long operation)  \n",
    "2) Use the above value as the upper bound of S1   \n",
    "3) Use the above value as the lower bound of S2  \n",
    "4) Create a piecewise function where if x<a, return 0, x>b return 0 and if a<x<b, return a value (eg. 10)  "
   ]
  },
  {
   "cell_type": "code",
   "execution_count": 1,
   "id": "a3aa6883",
   "metadata": {},
   "outputs": [],
   "source": [
    "import random\n",
    "import matplotlib.pyplot as plt\n",
    "import numpy as np\n",
    "import pandas as pd"
   ]
  },
  {
   "cell_type": "code",
   "execution_count": 17,
   "id": "7bd6770b",
   "metadata": {},
   "outputs": [],
   "source": [
    "start_time = 30\n",
    "end_time = 100\n",
    "cutoff = 30\n",
    "power = 100"
   ]
  },
  {
   "cell_type": "markdown",
   "id": "1727c3ae",
   "metadata": {},
   "source": [
    "## S1"
   ]
  },
  {
   "cell_type": "code",
   "execution_count": 3,
   "id": "fa457bc9",
   "metadata": {},
   "outputs": [],
   "source": [
    "# Function to create the a and b constant of S1\n",
    "# Rule: b - a < cutoff \n",
    "def s1_constants(): \n",
    "    a = random.randint(0, start_time)\n",
    "    b = random.randint(a, a + cutoff)\n",
    "    return a,b\n",
    "\n",
    "# Given a and b \n",
    "# If x < a, return 0 because motor didn't start yet\n",
    "# If a < x < b, return power since motor is active\n",
    "# If x > b, return 0 because motor stopped operation\n",
    "def s1(x,a,b):\n",
    " if(x < a): return 0\n",
    " if(a<=x<=b): return power \n",
    " else: return 0"
   ]
  },
  {
   "cell_type": "code",
   "execution_count": 4,
   "id": "8b3f3df3",
   "metadata": {
    "scrolled": true
   },
   "outputs": [
    {
     "data": {
      "image/png": "[encoded data removed]",
      "text/plain": [
       "<Figure size 432x288 with 1 Axes>"
      ]
     },
     "metadata": {
      "needs_background": "light"
     },
     "output_type": "display_data"
    }
   ],
   "source": [
    "\n",
    "\n",
    "\n",
    "# Return a numpy array starting at 0-end_time with 1 as the increment\n",
    "x = np.arange(0, end_time, 1)\n",
    "\n",
    "# Get the a and b constant for this run\n",
    "a, b = s1_constants()\n",
    "\n",
    "# Use the s1 function to get the results for each time\n",
    "y = []\n",
    "for i in range(len(x)):\n",
    "   y.append(s1(x[i], a, b))\n",
    "\n",
    "# Plot the results\n",
    "plt.plot(x,y,color='blue', label =\"S1\")\n",
    "ax = plt.gca()\n",
    "ax.set_ylim([-0.1, power+1])\n",
    "ax.legend()\n",
    "plt.xlabel(\"Time (min)\")\n",
    "plt.ylabel(\"Power (W)\")\n",
    "\n",
    "plt.show()"
   ]
  },
  {
   "cell_type": "markdown",
   "id": "4a3a6ffd",
   "metadata": {},
   "source": [
    "## S2"
   ]
  },
  {
   "cell_type": "code",
   "execution_count": 5,
   "id": "876b0d30",
   "metadata": {},
   "outputs": [],
   "source": [
    "import random\n",
    "\n",
    "# Function to create the a and b constant of S2\n",
    "# Rule: b - a > cutoff\n",
    "def s2_constants(): \n",
    "    a = random.randint(0, start_time)\n",
    "    b = random.randint(a+cutoff, end_time)\n",
    "    return a,b\n",
    "\n",
    "# Given a and b \n",
    "# If x < a, return 0 because motor didn't start yet\n",
    "# If a < x < b, return power since motor is active\n",
    "# If x > b, return 0 because motor stopped operation\n",
    "def s2(x,a,b):\n",
    " if(x < a): return 0\n",
    " if(a<=x<=b): return power \n",
    " else: return 0"
   ]
  },
  {
   "cell_type": "code",
   "execution_count": 6,
   "id": "99dea0bf",
   "metadata": {
    "scrolled": true
   },
   "outputs": [
    {
     "data": {
      "image/png": "[encoded data removed]",
      "text/plain": [
       "<Figure size 432x288 with 1 Axes>"
      ]
     },
     "metadata": {
      "needs_background": "light"
     },
     "output_type": "display_data"
    }
   ],
   "source": [
    "# Return a numpy array starting at 0-end_time with 1 as the increment\n",
    "x = np.arange(0, end_time, 1)\n",
    "\n",
    "# Get the a and b constant for this run\n",
    "a, b = s2_constants()\n",
    "\n",
    "# Use the s1 function to get the results for each time\n",
    "y = []\n",
    "for i in range(len(x)):\n",
    "   y.append(s2(x[i], a, b))\n",
    "\n",
    "# Plot the results\n",
    "plt.plot(x,y,color='blue', label =\"S2\")\n",
    "ax = plt.gca()\n",
    "ax.set_ylim([-0.1, power+1])\n",
    "ax.legend()\n",
    "plt.xlabel(\"Time (min)\")\n",
    "plt.ylabel(\"Power (W)\")\n",
    "\n",
    "plt.show()"
   ]
  },
  {
   "cell_type": "markdown",
   "id": "d69d7b96",
   "metadata": {},
   "source": [
    "# Create Dataframe using Piecewise Function\n",
    "\n",
    "https://www.geeksforgeeks.org/create-a-pandas-dataframe-from-a-numpy-array-and-specify-the-index-column-and-column-headers/"
   ]
  },
  {
   "cell_type": "code",
   "execution_count": 7,
   "id": "25cefe1d",
   "metadata": {},
   "outputs": [],
   "source": [
    "lists = []\n",
    "\n",
    "# Generate a run of S1\n",
    "def s1_generator():\n",
    "    # Return a numpy array starting at 0-end_time with 1 as the increment\n",
    "    x = np.arange(0, end_time, 1)\n",
    "\n",
    "    # Get the a and b constant for this run\n",
    "    a, b = s1_constants()\n",
    "\n",
    "    # Use the s1 function to get the results for each time\n",
    "    y = []\n",
    "    for i in range(len(x)):\n",
    "       y.append(s1(x[i], a, b))\n",
    "    return y\n",
    "\n",
    "# Generate a run of s2\n",
    "def s2_generator():\n",
    "    # Return a numpy array starting at 0-end_time with 1 as the increment\n",
    "    x = np.arange(0, end_time, 1)\n",
    "\n",
    "    # Get the a and b constant for this run\n",
    "    a, b = s2_constants()\n",
    "\n",
    "    # Use the s1 function to get the results for each time\n",
    "    y = []\n",
    "    for i in range(len(x)):\n",
    "       y.append(s2(x[i], a, b))\n",
    "    return y"
   ]
  },
  {
   "cell_type": "code",
   "execution_count": 8,
   "id": "257fdd7a",
   "metadata": {},
   "outputs": [],
   "source": [
    "# For each run, append to lists\n",
    "# In this case, only s1 was used so that it could be tested\n",
    "runs = 3\n",
    "lists = []\n",
    "for val in range(runs): \n",
    "    lists.append(s1_generator())"
   ]
  },
  {
   "cell_type": "code",
   "execution_count": 9,
   "id": "66675c20",
   "metadata": {},
   "outputs": [],
   "source": [
    "# Convert the list of lists into a numpy array\n",
    "numpyArray = np.array(lists)\n",
    "\n",
    "# Create a dataframe where each row is a run\n",
    "panda_df = pd.DataFrame(data = numpyArray,\n",
    "                        index = ['Run_' + str(i + 1) \n",
    "                        for i in range(numpyArray.shape[0])],\n",
    "                        columns = x)"
   ]
  },
  {
   "cell_type": "markdown",
   "id": "fd5b8e1c",
   "metadata": {},
   "source": [
    "## Using Tabular Data with Sktime\n",
    "\n",
    "https://www.sktime.org/en/stable/examples/loading_data.html \n",
    "\n",
    "Sktime isn't able to work with tabular data thus it needs to be converted.\n",
    "\n",
    "\"In a univariate setting, where there are n instances of the series and each univariate timeseries has t timepoints, this would yield a pandas DataFrame with shape (n, t). In practice, this could be used to represent sensors measuring the same signal over time (features) on different machines (instances) or the same economic variable over time (features) for different countries (instances).\""
   ]
  },
  {
   "cell_type": "code",
   "execution_count": 10,
   "id": "7baacb24",
   "metadata": {
    "scrolled": true
   },
   "outputs": [
    {
     "data": {
      "text/plain": [
       "(3, 100)"
      ]
     },
     "execution_count": 10,
     "metadata": {},
     "output_type": "execute_result"
    }
   ],
   "source": [
    "panda_df.shape"
   ]
  },
  {
   "cell_type": "code",
   "execution_count": 11,
   "id": "dda5d99f",
   "metadata": {},
   "outputs": [
    {
     "name": "stdout",
     "output_type": "stream",
     "text": [
      "The tabular data has the shape (3, 100)\n"
     ]
    },
    {
     "name": "stderr",
     "output_type": "stream",
     "text": [
      "C:\\Users\\edwar\\anaconda3\\envs\\tsc\\lib\\site-packages\\sktime\\datatypes\\_series\\_check.py:43: FutureWarning: pandas.Int64Index is deprecated and will be removed from pandas in a future version. Use pandas.Index with the appropriate dtype instead.\n",
      "  VALID_INDEX_TYPES = (pd.Int64Index, pd.RangeIndex, pd.PeriodIndex, pd.DatetimeIndex)\n",
      "C:\\Users\\edwar\\anaconda3\\envs\\tsc\\lib\\site-packages\\sktime\\datatypes\\_hierarchical\\_check.py:50: FutureWarning: pandas.Int64Index is deprecated and will be removed from pandas in a future version. Use pandas.Index with the appropriate dtype instead.\n",
      "  VALID_INDEX_TYPES = (pd.Int64Index, pd.RangeIndex, pd.PeriodIndex, pd.DatetimeIndex)\n",
      "C:\\Users\\edwar\\anaconda3\\envs\\tsc\\lib\\site-packages\\sktime\\datatypes\\_hierarchical\\_check.py:51: FutureWarning: pandas.Int64Index is deprecated and will be removed from pandas in a future version. Use pandas.Index with the appropriate dtype instead.\n",
      "  VALID_MULTIINDEX_TYPES = (pd.Int64Index, pd.RangeIndex)\n",
      "C:\\Users\\edwar\\anaconda3\\envs\\tsc\\lib\\site-packages\\sktime\\datatypes\\_panel\\_check.py:48: FutureWarning: pandas.Int64Index is deprecated and will be removed from pandas in a future version. Use pandas.Index with the appropriate dtype instead.\n",
      "  VALID_INDEX_TYPES = (pd.Int64Index, pd.RangeIndex, pd.PeriodIndex, pd.DatetimeIndex)\n",
      "C:\\Users\\edwar\\anaconda3\\envs\\tsc\\lib\\site-packages\\sktime\\datatypes\\_panel\\_check.py:49: FutureWarning: pandas.Int64Index is deprecated and will be removed from pandas in a future version. Use pandas.Index with the appropriate dtype instead.\n",
      "  VALID_MULTIINDEX_TYPES = (pd.Int64Index, pd.RangeIndex)\n"
     ]
    }
   ],
   "source": [
    "from sktime.datatypes._panel._convert import (\n",
    "    from_2d_array_to_nested,\n",
    "    from_nested_to_2d_array,\n",
    "    is_nested_dataframe,\n",
    ")\n",
    "\n",
    "print(f\"The tabular data has the shape {panda_df.shape}\")"
   ]
  },
  {
   "cell_type": "markdown",
   "id": "a1089a88",
   "metadata": {},
   "source": [
    "\"The from_2d_array_to_nested function makes it easy to convert this to a nested DataFrame.\""
   ]
  },
  {
   "cell_type": "code",
   "execution_count": 12,
   "id": "4eac311c",
   "metadata": {},
   "outputs": [
    {
     "name": "stdout",
     "output_type": "stream",
     "text": [
      "X_nested is a nested DataFrame: True\n",
      "The cell contains a <class 'pandas.core.series.Series'>.\n",
      "The nested DataFrame has shape (3, 1)\n"
     ]
    },
    {
     "data": {
      "text/html": [
       "<div>\n",
       "<style scoped>\n",
       "    .dataframe tbody tr th:only-of-type {\n",
       "        vertical-align: middle;\n",
       "    }\n",
       "\n",
       "    .dataframe tbody tr th {\n",
       "        vertical-align: top;\n",
       "    }\n",
       "\n",
       "    .dataframe thead th {\n",
       "        text-align: right;\n",
       "    }\n",
       "</style>\n",
       "<table border=\"1\" class=\"dataframe\">\n",
       "  <thead>\n",
       "    <tr style=\"text-align: right;\">\n",
       "      <th></th>\n",
       "      <th>0</th>\n",
       "    </tr>\n",
       "  </thead>\n",
       "  <tbody>\n",
       "    <tr>\n",
       "      <th>0</th>\n",
       "      <td>0     0\n",
       "1     0\n",
       "2     0\n",
       "3     0\n",
       "4     0\n",
       "     ....</td>\n",
       "    </tr>\n",
       "    <tr>\n",
       "      <th>1</th>\n",
       "      <td>0     0\n",
       "1     0\n",
       "2     0\n",
       "3     0\n",
       "4     0\n",
       "     ....</td>\n",
       "    </tr>\n",
       "    <tr>\n",
       "      <th>2</th>\n",
       "      <td>0      0\n",
       "1      0\n",
       "2     10\n",
       "3     10\n",
       "4     10\n",
       " ...</td>\n",
       "    </tr>\n",
       "  </tbody>\n",
       "</table>\n",
       "</div>"
      ],
      "text/plain": [
       "                                                   0\n",
       "0  0     0\n",
       "1     0\n",
       "2     0\n",
       "3     0\n",
       "4     0\n",
       "     ....\n",
       "1  0     0\n",
       "1     0\n",
       "2     0\n",
       "3     0\n",
       "4     0\n",
       "     ....\n",
       "2  0      0\n",
       "1      0\n",
       "2     10\n",
       "3     10\n",
       "4     10\n",
       " ..."
      ]
     },
     "execution_count": 12,
     "metadata": {},
     "output_type": "execute_result"
    }
   ],
   "source": [
    "X_nested = from_2d_array_to_nested(panda_df)\n",
    "print(f\"X_nested is a nested DataFrame: {is_nested_dataframe(X_nested)}\")\n",
    "print(f\"The cell contains a {type(X_nested.iloc[0,0])}.\")\n",
    "print(f\"The nested DataFrame has shape {X_nested.shape}\")\n",
    "X_nested.head()"
   ]
  },
  {
   "cell_type": "markdown",
   "id": "8672822b",
   "metadata": {},
   "source": [
    "## Plotting Every Run"
   ]
  },
  {
   "cell_type": "code",
   "execution_count": 13,
   "id": "fb865958",
   "metadata": {
    "scrolled": true
   },
   "outputs": [
    {
     "data": {
      "image/png": "[encoded data removed]",
      "text/plain": [
       "<Figure size 432x288 with 1 Axes>"
      ]
     },
     "metadata": {
      "needs_background": "light"
     },
     "output_type": "display_data"
    }
   ],
   "source": [
    "# X-axis: df.columns becuase each column is a time value\n",
    "# Y-axis: df.iloc[row, :] because each value in the row is the current power value at time x \n",
    "for i in range (panda_df.shape[0]):\n",
    "    plt.plot(panda_df.columns,panda_df.iloc[i,:], label = \"Run \"+str(i))\n",
    "\n",
    "ax = plt.gca()\n",
    "ax.set_ylim([-0.1, power+1])\n",
    "ax.legend()\n",
    "plt.xlabel(\"Time (min)\")\n",
    "plt.ylabel(\"Power (W)\")\n",
    "\n",
    "plt.show()   "
   ]
  },
  {
   "cell_type": "markdown",
   "id": "3f97f735",
   "metadata": {},
   "source": [
    "# S3"
   ]
  },
  {
   "cell_type": "markdown",
   "id": "872fb5e3",
   "metadata": {},
   "source": [
    "## Pseudo Code\n",
    "\n",
    "\n",
    "Tc : Operation time at constant load  \n",
    "To: Time deenergized and at rest  \n",
    "\n",
    "1) Random start time   \n",
    "2) End of of first cyclecycle = Starttime + Tc   \n",
    "3) Start time of next cycle = Startime + Tc + To  \n",
    "4) End time of next cycle = startime + Tc + To + Tc   \n",
    "\n",
    "Assumptions:\n",
    "Tc must operate for at least 10 minutes\n",
    "To must have a break of at least 10 minutes"
   ]
  },
  {
   "cell_type": "code",
   "execution_count": 67,
   "id": "c77f6d6d",
   "metadata": {},
   "outputs": [],
   "source": [
    "def s3_constants(): \n",
    "    time_started = random.randint(0, start_time)\n",
    "    tc = random.randint(10, 30)\n",
    "    to =  random.randint(10, 30)\n",
    "    return time_started, tc, to\n",
    "\n",
    "# Given a and b \n",
    "# If x < time_started, return 0 because motor didn't start yet\n",
    "# If time_started < x < time_started + tc, return power since motor is active\n",
    "# If time_started + tc < x < time_started + tc + to, return 0 since cycle 1 finished and cycle 2 not started yet\n",
    "# If time_started + tc + to < x < time_started + tc + to + tc, return power since in cycle 2\n",
    "# Else, return 0 since since both cycles complete\n",
    "def s3(x, time_started,tc,to, power):\n",
    " if(x < time_started): return 0\n",
    " if(time_started < x < time_started+tc): return power\n",
    " if(time_started+tc < x < time_started+tc+to): return 0\n",
    " if(time_started+tc+to < x < time_started+tc+to+tc): return power\n",
    " else: return 0\n",
    "\n",
    "lists = []\n",
    "\n",
    "# Generate a run of S3\n",
    "def s3_generator(power):\n",
    "    # Return a numpy array starting at 0-end_time with 1 as the increment\n",
    "    x = np.arange(0, end_time, 1)\n",
    "\n",
    "    # Get the a and b constant for this run\n",
    "    time_started, tc, to = s3_constants()\n",
    "\n",
    "    # Use the s1 function to get the results for each time\n",
    "    y = []\n",
    "    for i in range(len(x)):\n",
    "       y.append(s3(x[i], time_started, tc, to, power))\n",
    "    return y\n"
   ]
  },
  {
   "cell_type": "code",
   "execution_count": 146,
   "id": "a7f9276d",
   "metadata": {},
   "outputs": [
    {
     "data": {
      "image/png": "[encoded data removed]",
      "text/plain": [
       "<Figure size 432x288 with 1 Axes>"
      ]
     },
     "metadata": {
      "needs_background": "light"
     },
     "output_type": "display_data"
    }
   ],
   "source": [
    "# Plot the results\n",
    "x = np.arange(0, end_time, 1)\n",
    "y = s3_generator(100)\n",
    "\n",
    "plt.plot(x,y,color='blue', label =\"S2\")\n",
    "ax = plt.gca()\n",
    "ax.set_ylim([-0.1, power+1])\n",
    "ax.legend()\n",
    "plt.xlabel(\"Time (min)\")\n",
    "plt.ylabel(\"Power (W)\")\n",
    "\n",
    "plt.show()"
   ]
  },
  {
   "cell_type": "code",
   "execution_count": null,
   "id": "bf68f71e",
   "metadata": {},
   "outputs": [],
   "source": []
  },
  {
   "cell_type": "code",
   "execution_count": null,
   "id": "0e7544b2",
   "metadata": {},
   "outputs": [],
   "source": []
  }
 ],
 "metadata": {
  "kernelspec": {
   "display_name": "Python [conda env:tsc]",
   "language": "python",
   "name": "conda-env-tsc-py"
  },
  "language_info": {
   "codemirror_mode": {
    "name": "ipython",
    "version": 3
   },
   "file_extension": ".py",
   "mimetype": "text/x-python",
   "name": "python",
   "nbconvert_exporter": "python",
   "pygments_lexer": "ipython3",
   "version": "3.9.10"
  }
 },
 "nbformat": 4,
 "nbformat_minor": 5
}
