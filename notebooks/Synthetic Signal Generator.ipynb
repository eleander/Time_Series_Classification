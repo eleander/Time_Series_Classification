{
 "cells": [
  {
   "cell_type": "markdown",
   "id": "f801926b",
   "metadata": {},
   "source": [
    "# Pseudo Code \n",
    "\n",
    "For S1 and S2\n",
    "\n",
    "1) First define when is cutoff between S1 or S2 (eg. 30 minutes long operation)  \n",
    "2) Use the above value as the upper bound of S1   \n",
    "3) Use the above value as the lower bound of S2  \n",
    "4) Create a piecewise function where if x<a, return 0, x>b return 0 and if a<x<b, return a value (eg. 10)  "
   ]
  },
  {
   "cell_type": "code",
   "execution_count": 1,
   "id": "a3aa6883",
   "metadata": {},
   "outputs": [],
   "source": [
    "import random\n",
    "import matplotlib.pyplot as plt\n",
    "import numpy as np\n",
    "import pandas as pd"
   ]
  },
  {
   "cell_type": "code",
   "execution_count": 2,
   "id": "7bd6770b",
   "metadata": {},
   "outputs": [],
   "source": [
    "start_time = 30\n",
    "end_time = 100\n",
    "cutoff = 30\n",
    "power = 100"
   ]
  },
  {
   "cell_type": "markdown",
   "id": "1727c3ae",
   "metadata": {},
   "source": [
    "## S1"
   ]
  },
  {
   "cell_type": "code",
   "execution_count": 3,
   "id": "fa457bc9",
   "metadata": {},
   "outputs": [],
   "source": [
    "# Function to create the a and b constant of S1\n",
    "# Rule: b - a < cutoff \n",
    "def s1_constants(): \n",
    "    a = random.randint(0, start_time)\n",
    "    b = random.randint(a, a + cutoff)\n",
    "    return a,b\n",
    "\n",
    "# Given a and b \n",
    "# If x < a, return 0 because motor didn't start yet\n",
    "# If a < x < b, return power since motor is active\n",
    "# If x > b, return 0 because motor stopped operation\n",
    "def s1(x,a,b):\n",
    " if(x < a): return 0\n",
    " if(a<=x<=b): return power \n",
    " else: return 0"
   ]
  },
  {
   "cell_type": "code",
   "execution_count": 4,
   "id": "8b3f3df3",
   "metadata": {
    "scrolled": true
   },
   "outputs": [
    {
     "data": {
      "image/png": "[encoded data removed]",
      "text/plain": [
       "<Figure size 432x288 with 1 Axes>"
      ]
     },
     "metadata": {
      "needs_background": "light"
     },
     "output_type": "display_data"
    }
   ],
   "source": [
    "\n",
    "\n",
    "\n",
    "# Return a numpy array starting at 0-end_time with 1 as the increment\n",
    "x = np.arange(0, end_time, 1)\n",
    "\n",
    "# Get the a and b constant for this run\n",
    "a, b = s1_constants()\n",
    "\n",
    "# Use the s1 function to get the results for each time\n",
    "y = []\n",
    "for i in range(len(x)):\n",
    "   y.append(s1(x[i], a, b))\n",
    "\n",
    "# Plot the results\n",
    "plt.plot(x,y,color='blue', label =\"S1\")\n",
    "ax = plt.gca()\n",
    "ax.set_ylim([-0.1, power+1])\n",
    "ax.legend()\n",
    "plt.xlabel(\"Time (min)\")\n",
    "plt.ylabel(\"Power (W)\")\n",
    "\n",
    "plt.show()"
   ]
  },
  {
   "cell_type": "markdown",
   "id": "4a3a6ffd",
   "metadata": {},
   "source": [
    "## S2"
   ]
  },
  {
   "cell_type": "code",
   "execution_count": 5,
   "id": "876b0d30",
   "metadata": {},
   "outputs": [],
   "source": [
    "import random\n",
    "\n",
    "# Function to create the a and b constant of S2\n",
    "# Rule: b - a > cutoff\n",
    "def s2_constants(): \n",
    "    a = random.randint(0, start_time)\n",
    "    b = random.randint(a+cutoff, end_time)\n",
    "    return a,b\n",
    "\n",
    "# Given a and b \n",
    "# If x < a, return 0 because motor didn't start yet\n",
    "# If a < x < b, return power since motor is active\n",
    "# If x > b, return 0 because motor stopped operation\n",
    "def s2(x,a,b):\n",
    " if(x < a): return 0\n",
    " if(a<=x<=b): return power \n",
    " else: return 0"
   ]
  },
  {
   "cell_type": "code",
   "execution_count": 6,
   "id": "99dea0bf",
   "metadata": {
    "scrolled": true
   },
   "outputs": [
    {
     "data": {
      "image/png": "[encoded data removed]",
      "text/plain": [
       "<Figure size 432x288 with 1 Axes>"
      ]
     },
     "metadata": {
      "needs_background": "light"
     },
     "output_type": "display_data"
    }
   ],
   "source": [
    "# Return a numpy array starting at 0-end_time with 1 as the increment\n",
    "x = np.arange(0, end_time, 1)\n",
    "\n",
    "# Get the a and b constant for this run\n",
    "a, b = s2_constants()\n",
    "\n",
    "# Use the s1 function to get the results for each time\n",
    "y = []\n",
    "for i in range(len(x)):\n",
    "   y.append(s2(x[i], a, b))\n",
    "\n",
    "# Plot the results\n",
    "plt.plot(x,y,color='blue', label =\"S2\")\n",
    "ax = plt.gca()\n",
    "ax.set_ylim([-0.1, power+1])\n",
    "ax.legend()\n",
    "plt.xlabel(\"Time (min)\")\n",
    "plt.ylabel(\"Power (W)\")\n",
    "\n",
    "plt.show()"
   ]
  },
  {
   "cell_type": "markdown",
   "id": "d69d7b96",
   "metadata": {},
   "source": [
    "# Create Dataframe using Piecewise Function\n",
    "\n",
    "https://www.geeksforgeeks.org/create-a-pandas-dataframe-from-a-numpy-array-and-specify-the-index-column-and-column-headers/"
   ]
  },
  {
   "cell_type": "code",
   "execution_count": 7,
   "id": "25cefe1d",
   "metadata": {},
   "outputs": [],
   "source": [
    "lists = []\n",
    "\n",
    "# Generate a run of S1\n",
    "def s1_generator():\n",
    "    # Return a numpy array starting at 0-end_time with 1 as the increment\n",
    "    x = np.arange(0, end_time, 1)\n",
    "\n",
    "    # Get the a and b constant for this run\n",
    "    a, b = s1_constants()\n",
    "\n",
    "    # Use the s1 function to get the results for each time\n",
    "    y = []\n",
    "    for i in range(len(x)):\n",
    "       y.append(s1(x[i], a, b))\n",
    "    return y\n",
    "\n",
    "# Generate a run of s2\n",
    "def s2_generator():\n",
    "    # Return a numpy array starting at 0-end_time with 1 as the increment\n",
    "    x = np.arange(0, end_time, 1)\n",
    "\n",
    "    # Get the a and b constant for this run\n",
    "    a, b = s2_constants()\n",
    "\n",
    "    # Use the s1 function to get the results for each time\n",
    "    y = []\n",
    "    for i in range(len(x)):\n",
    "       y.append(s2(x[i], a, b))\n",
    "    return y"
   ]
  },
  {
   "cell_type": "code",
   "execution_count": 8,
   "id": "257fdd7a",
   "metadata": {},
   "outputs": [],
   "source": [
    "# For each run, append to lists\n",
    "# In this case, only s1 was used so that it could be tested\n",
    "runs = 3\n",
    "lists = []\n",
    "for val in range(runs): \n",
    "    lists.append(s1_generator())"
   ]
  },
  {
   "cell_type": "code",
   "execution_count": 9,
   "id": "66675c20",
   "metadata": {},
   "outputs": [],
   "source": [
    "# Convert the list of lists into a numpy array\n",
    "numpyArray = np.array(lists)\n",
    "\n",
    "# Create a dataframe where each row is a run\n",
    "panda_df = pd.DataFrame(data = numpyArray,\n",
    "                        index = ['Run_' + str(i + 1) \n",
    "                        for i in range(numpyArray.shape[0])],\n",
    "                        columns = x)"
   ]
  },
  {
   "cell_type": "markdown",
   "id": "fd5b8e1c",
   "metadata": {},
   "source": [
    "## Using Tabular Data with Sktime\n",
    "\n",
    "https://www.sktime.org/en/stable/examples/loading_data.html \n",
    "\n",
    "Sktime isn't able to work with tabular data thus it needs to be converted.\n",
    "\n",
    "\"In a univariate setting, where there are n instances of the series and each univariate timeseries has t timepoints, this would yield a pandas DataFrame with shape (n, t). In practice, this could be used to represent sensors measuring the same signal over time (features) on different machines (instances) or the same economic variable over time (features) for different countries (instances).\""
   ]
  },
  {
   "cell_type": "code",
   "execution_count": 10,
   "id": "7baacb24",
   "metadata": {
    "scrolled": true
   },
   "outputs": [
    {
     "data": {
      "text/plain": [
       "(3, 100)"
      ]
     },
     "execution_count": 10,
     "metadata": {},
     "output_type": "execute_result"
    }
   ],
   "source": [
    "panda_df.shape"
   ]
  },
  {
   "cell_type": "code",
   "execution_count": 11,
   "id": "dda5d99f",
   "metadata": {},
   "outputs": [
    {
     "name": "stdout",
     "output_type": "stream",
     "text": [
      "The tabular data has the shape (3, 100)\n"
     ]
    },
    {
     "name": "stderr",
     "output_type": "stream",
     "text": [
      "C:\\Users\\edwar\\anaconda3\\envs\\tsc\\lib\\site-packages\\sktime\\datatypes\\_series\\_check.py:43: FutureWarning: pandas.Int64Index is deprecated and will be removed from pandas in a future version. Use pandas.Index with the appropriate dtype instead.\n",
      "  VALID_INDEX_TYPES = (pd.Int64Index, pd.RangeIndex, pd.PeriodIndex, pd.DatetimeIndex)\n",
      "C:\\Users\\edwar\\anaconda3\\envs\\tsc\\lib\\site-packages\\sktime\\datatypes\\_hierarchical\\_check.py:50: FutureWarning: pandas.Int64Index is deprecated and will be removed from pandas in a future version. Use pandas.Index with the appropriate dtype instead.\n",
      "  VALID_INDEX_TYPES = (pd.Int64Index, pd.RangeIndex, pd.PeriodIndex, pd.DatetimeIndex)\n",
      "C:\\Users\\edwar\\anaconda3\\envs\\tsc\\lib\\site-packages\\sktime\\datatypes\\_hierarchical\\_check.py:51: FutureWarning: pandas.Int64Index is deprecated and will be removed from pandas in a future version. Use pandas.Index with the appropriate dtype instead.\n",
      "  VALID_MULTIINDEX_TYPES = (pd.Int64Index, pd.RangeIndex)\n",
      "C:\\Users\\edwar\\anaconda3\\envs\\tsc\\lib\\site-packages\\sktime\\datatypes\\_panel\\_check.py:48: FutureWarning: pandas.Int64Index is deprecated and will be removed from pandas in a future version. Use pandas.Index with the appropriate dtype instead.\n",
      "  VALID_INDEX_TYPES = (pd.Int64Index, pd.RangeIndex, pd.PeriodIndex, pd.DatetimeIndex)\n",
      "C:\\Users\\edwar\\anaconda3\\envs\\tsc\\lib\\site-packages\\sktime\\datatypes\\_panel\\_check.py:49: FutureWarning: pandas.Int64Index is deprecated and will be removed from pandas in a future version. Use pandas.Index with the appropriate dtype instead.\n",
      "  VALID_MULTIINDEX_TYPES = (pd.Int64Index, pd.RangeIndex)\n"
     ]
    }
   ],
   "source": [
    "from sktime.datatypes._panel._convert import (\n",
    "    from_2d_array_to_nested,\n",
    "    from_nested_to_2d_array,\n",
    "    is_nested_dataframe,\n",
    ")\n",
    "\n",
    "print(f\"The tabular data has the shape {panda_df.shape}\")"
   ]
  },
  {
   "cell_type": "markdown",
   "id": "a1089a88",
   "metadata": {},
   "source": [
    "\"The from_2d_array_to_nested function makes it easy to convert this to a nested DataFrame.\""
   ]
  },
  {
   "cell_type": "code",
   "execution_count": 12,
   "id": "4eac311c",
   "metadata": {},
   "outputs": [
    {
     "name": "stdout",
     "output_type": "stream",
     "text": [
      "X_nested is a nested DataFrame: True\n",
      "The cell contains a <class 'pandas.core.series.Series'>.\n",
      "The nested DataFrame has shape (3, 1)\n"
     ]
    },
    {
     "data": {
      "text/html": [
       "<div>\n",
       "<style scoped>\n",
       "    .dataframe tbody tr th:only-of-type {\n",
       "        vertical-align: middle;\n",
       "    }\n",
       "\n",
       "    .dataframe tbody tr th {\n",
       "        vertical-align: top;\n",
       "    }\n",
       "\n",
       "    .dataframe thead th {\n",
       "        text-align: right;\n",
       "    }\n",
       "</style>\n",
       "<table border=\"1\" class=\"dataframe\">\n",
       "  <thead>\n",
       "    <tr style=\"text-align: right;\">\n",
       "      <th></th>\n",
       "      <th>0</th>\n",
       "    </tr>\n",
       "  </thead>\n",
       "  <tbody>\n",
       "    <tr>\n",
       "      <th>0</th>\n",
       "      <td>0     0\n",
       "1     0\n",
       "2     0\n",
       "3     0\n",
       "4     0\n",
       "     ....</td>\n",
       "    </tr>\n",
       "    <tr>\n",
       "      <th>1</th>\n",
       "      <td>0     0\n",
       "1     0\n",
       "2     0\n",
       "3     0\n",
       "4     0\n",
       "     ....</td>\n",
       "    </tr>\n",
       "    <tr>\n",
       "      <th>2</th>\n",
       "      <td>0     0\n",
       "1     0\n",
       "2     0\n",
       "3     0\n",
       "4     0\n",
       "     ....</td>\n",
       "    </tr>\n",
       "  </tbody>\n",
       "</table>\n",
       "</div>"
      ],
      "text/plain": [
       "                                                   0\n",
       "0  0     0\n",
       "1     0\n",
       "2     0\n",
       "3     0\n",
       "4     0\n",
       "     ....\n",
       "1  0     0\n",
       "1     0\n",
       "2     0\n",
       "3     0\n",
       "4     0\n",
       "     ....\n",
       "2  0     0\n",
       "1     0\n",
       "2     0\n",
       "3     0\n",
       "4     0\n",
       "     ...."
      ]
     },
     "execution_count": 12,
     "metadata": {},
     "output_type": "execute_result"
    }
   ],
   "source": [
    "X_nested = from_2d_array_to_nested(panda_df)\n",
    "print(f\"X_nested is a nested DataFrame: {is_nested_dataframe(X_nested)}\")\n",
    "print(f\"The cell contains a {type(X_nested.iloc[0,0])}.\")\n",
    "print(f\"The nested DataFrame has shape {X_nested.shape}\")\n",
    "X_nested.head()"
   ]
  },
  {
   "cell_type": "markdown",
   "id": "8672822b",
   "metadata": {},
   "source": [
    "## Plotting Every Run"
   ]
  },
  {
   "cell_type": "code",
   "execution_count": 13,
   "id": "fb865958",
   "metadata": {
    "scrolled": true
   },
   "outputs": [
    {
     "data": {
      "image/png": "[encoded data removed]",
      "text/plain": [
       "<Figure size 432x288 with 1 Axes>"
      ]
     },
     "metadata": {
      "needs_background": "light"
     },
     "output_type": "display_data"
    }
   ],
   "source": [
    "# X-axis: df.columns becuase each column is a time value\n",
    "# Y-axis: df.iloc[row, :] because each value in the row is the current power value at time x \n",
    "for i in range (panda_df.shape[0]):\n",
    "    plt.plot(panda_df.columns,panda_df.iloc[i,:], label = \"Run \"+str(i))\n",
    "\n",
    "ax = plt.gca()\n",
    "ax.set_ylim([-0.1, power+1])\n",
    "ax.legend()\n",
    "plt.xlabel(\"Time (min)\")\n",
    "plt.ylabel(\"Power (W)\")\n",
    "\n",
    "plt.show()   "
   ]
  },
  {
   "cell_type": "markdown",
   "id": "f0050621",
   "metadata": {},
   "source": [
    "# S3"
   ]
  },
  {
   "cell_type": "markdown",
   "id": "28eb2846",
   "metadata": {},
   "source": [
    "## Pseudo Code\n",
    "\n",
    "\n",
    "Tc : Operation time at constant load  \n",
    "To: Time deenergized and at rest  \n",
    "\n",
    "1) Random start time   \n",
    "2) End of of first cyclecycle = Starttime + Tc   \n",
    "3) Start time of next cycle = Startime + Tc + To  \n",
    "4) End time of next cycle = startime + Tc + To + Tc   \n",
    "\n",
    "Assumptions:\n",
    "Tc must operate for at least 10 minutes\n",
    "To must have a break of at least 10 minutes"
   ]
  },
  {
   "cell_type": "code",
   "execution_count": 14,
   "id": "e481c41d",
   "metadata": {},
   "outputs": [],
   "source": [
    "# time_started: when does motor start?\n",
    "# tc: operation time at constant load\n",
    "# to: time deenergized and at rest\n",
    "def s3_constants(): \n",
    "    time_started = random.randint(0, start_time)\n",
    "    tc = random.randint(10, 30)\n",
    "    to =  random.randint(10, 30)\n",
    "    return time_started, tc, to\n",
    "\n",
    "# Given a and b \n",
    "# If x < time_started, return 0 because motor didn't start yet\n",
    "# If time_started < x < time_started + tc, return power since motor is active\n",
    "# If time_started + tc < x < time_started + tc + to, return 0 since cycle 1 finished and cycle 2 not started yet\n",
    "# If time_started + tc + to < x < time_started + tc + to + tc, return power since in cycle 2\n",
    "# Else, return 0 since since both cycles complete\n",
    "def s3(x, time_started,tc,to, power):\n",
    " if(x < time_started): return 0\n",
    " if(time_started < x < time_started+tc): return power\n",
    " if(time_started+tc < x < time_started+tc+to): return 0\n",
    " if(time_started+tc+to < x < time_started+tc+to+tc): return power\n",
    " else: return 0\n",
    "\n",
    "lists = []\n",
    "\n",
    "# Generate a run of S3\n",
    "def s3_generator(power):\n",
    "    # Return a numpy array starting at 0-end_time with 1 as the increment\n",
    "    x = np.arange(0, end_time, 1)\n",
    "\n",
    "    # Get the a and b constant for this run\n",
    "    time_started, tc, to = s3_constants()\n",
    "\n",
    "    # Use the s1 function to get the results for each time\n",
    "    y = []\n",
    "    for i in range(len(x)):\n",
    "       y.append(s3(x[i], time_started, tc, to, power))\n",
    "    return y\n"
   ]
  },
  {
   "cell_type": "code",
   "execution_count": 15,
   "id": "977aa7af",
   "metadata": {
    "scrolled": true
   },
   "outputs": [
    {
     "data": {
      "image/png": "[encoded data removed]",
      "text/plain": [
       "<Figure size 432x288 with 1 Axes>"
      ]
     },
     "metadata": {
      "needs_background": "light"
     },
     "output_type": "display_data"
    }
   ],
   "source": [
    "# Plot the results\n",
    "x = np.arange(0, end_time, 1)\n",
    "y = s3_generator(100)\n",
    "\n",
    "plt.plot(x,y,color='blue', label =\"S3\")\n",
    "ax = plt.gca()\n",
    "ax.set_ylim([-0.1, power+1])\n",
    "ax.legend()\n",
    "plt.xlabel(\"Time (min)\")\n",
    "plt.ylabel(\"Power (W)\")\n",
    "\n",
    "plt.show()"
   ]
  },
  {
   "cell_type": "markdown",
   "id": "d5ed42b6",
   "metadata": {},
   "source": [
    "# S4"
   ]
  },
  {
   "cell_type": "markdown",
   "id": "b0214e61",
   "metadata": {},
   "source": [
    "## Notes\n",
    "\n",
    "Graphing a polynomial based on the roots is done through using numpy.polynomial.polynomial.Polynomial.fromroots([roots]). This then returns a series with the specified roots"
   ]
  },
  {
   "cell_type": "code",
   "execution_count": 16,
   "id": "5fead88d",
   "metadata": {},
   "outputs": [],
   "source": [
    "from numpy.polynomial import polynomial as P\n",
    "\n",
    "p = P.Polynomial.fromroots([-3,3])"
   ]
  },
  {
   "cell_type": "markdown",
   "id": "c5ae6ac3",
   "metadata": {},
   "source": [
    "Printing p shows what function was created"
   ]
  },
  {
   "cell_type": "code",
   "execution_count": 17,
   "id": "91f7d21c",
   "metadata": {
    "scrolled": false
   },
   "outputs": [
    {
     "data": {
      "text/latex": [
       "$x \\mapsto \\text{-9.0}\\color{LightGray}{ + \\text{0.0}\\,x} + \\text{1.0}\\,x^{2}$"
      ],
      "text/plain": [
       "Polynomial([-9.,  0.,  1.], domain=[-1.,  1.], window=[-1.,  1.])"
      ]
     },
     "execution_count": 17,
     "metadata": {},
     "output_type": "execute_result"
    }
   ],
   "source": [
    "p"
   ]
  },
  {
   "cell_type": "code",
   "execution_count": 18,
   "id": "703b379c",
   "metadata": {
    "scrolled": false
   },
   "outputs": [
    {
     "data": {
      "text/plain": [
       "array([-3.,  3.])"
      ]
     },
     "execution_count": 18,
     "metadata": {},
     "output_type": "execute_result"
    }
   ],
   "source": [
    "p.roots()"
   ]
  },
  {
   "cell_type": "code",
   "execution_count": 19,
   "id": "d0ce49ab",
   "metadata": {},
   "outputs": [
    {
     "data": {
      "text/plain": [
       "array([-9.,  0.,  1.])"
      ]
     },
     "execution_count": 19,
     "metadata": {},
     "output_type": "execute_result"
    }
   ],
   "source": [
    "p.coef"
   ]
  },
  {
   "cell_type": "code",
   "execution_count": 20,
   "id": "1c3aa837",
   "metadata": {
    "scrolled": true
   },
   "outputs": [
    {
     "data": {
      "text/plain": [
       "2"
      ]
     },
     "execution_count": 20,
     "metadata": {},
     "output_type": "execute_result"
    }
   ],
   "source": [
    "p.degree()"
   ]
  },
  {
   "cell_type": "markdown",
   "id": "b3d97748",
   "metadata": {},
   "source": [
    "p.linspace() returns x and y for the polynomial in the given domain. The default domain is [-1, 1]"
   ]
  },
  {
   "cell_type": "code",
   "execution_count": 21,
   "id": "861e7fb7",
   "metadata": {},
   "outputs": [],
   "source": [
    "x, y = p.linspace()"
   ]
  },
  {
   "cell_type": "code",
   "execution_count": 22,
   "id": "d6063530",
   "metadata": {
    "scrolled": true
   },
   "outputs": [
    {
     "data": {
      "text/plain": [
       "[<matplotlib.lines.Line2D at 0x1d194a80df0>]"
      ]
     },
     "execution_count": 22,
     "metadata": {},
     "output_type": "execute_result"
    },
    {
     "data": {
      "image/png": "[encoded data removed]",
      "text/plain": [
       "<Figure size 432x288 with 1 Axes>"
      ]
     },
     "metadata": {
      "needs_background": "light"
     },
     "output_type": "display_data"
    }
   ],
   "source": [
    "plt.plot(x,y)"
   ]
  },
  {
   "cell_type": "markdown",
   "id": "1fe5362c",
   "metadata": {},
   "source": [
    "Also possible to call the function p and pass in an x value. Shows that return polynomial is functionally equivalent to f(x) in mathematics"
   ]
  },
  {
   "cell_type": "code",
   "execution_count": 23,
   "id": "ed14d063",
   "metadata": {
    "scrolled": true
   },
   "outputs": [
    {
     "name": "stdout",
     "output_type": "stream",
     "text": [
      "-5.0\n"
     ]
    }
   ],
   "source": [
    "print(p(2))"
   ]
  },
  {
   "cell_type": "markdown",
   "id": "981da503",
   "metadata": {},
   "source": [
    "## Finding max values of poly"
   ]
  },
  {
   "cell_type": "code",
   "execution_count": 24,
   "id": "76f191c2",
   "metadata": {},
   "outputs": [],
   "source": [
    "c, b, a = p.coef"
   ]
  },
  {
   "cell_type": "code",
   "execution_count": 25,
   "id": "037a43cb",
   "metadata": {},
   "outputs": [],
   "source": [
    "x0 = -b/(2*a)"
   ]
  },
  {
   "cell_type": "code",
   "execution_count": 26,
   "id": "93bde0ef",
   "metadata": {
    "scrolled": true
   },
   "outputs": [
    {
     "name": "stdout",
     "output_type": "stream",
     "text": [
      "-0.0\n",
      "-9.0\n"
     ]
    }
   ],
   "source": [
    "print(x0)\n",
    "print(p(x0))"
   ]
  },
  {
   "cell_type": "markdown",
   "id": "ccd1aec3",
   "metadata": {},
   "source": [
    "# Flipping the graph \n",
    "\n",
    "Results in same roots but correct looking graph"
   ]
  },
  {
   "cell_type": "code",
   "execution_count": 27,
   "id": "1dda936f",
   "metadata": {},
   "outputs": [],
   "source": [
    "flipped = -p"
   ]
  },
  {
   "cell_type": "code",
   "execution_count": 28,
   "id": "abbb635b",
   "metadata": {},
   "outputs": [
    {
     "data": {
      "text/latex": [
       "$x \\mapsto \\text{9.0}\\color{LightGray}{ - \\text{0.0}\\,x} - \\text{1.0}\\,x^{2}$"
      ],
      "text/plain": [
       "Polynomial([ 9., -0., -1.], domain=[-1.,  1.], window=[-1.,  1.])"
      ]
     },
     "execution_count": 28,
     "metadata": {},
     "output_type": "execute_result"
    }
   ],
   "source": [
    "flipped"
   ]
  },
  {
   "cell_type": "code",
   "execution_count": 29,
   "id": "7afffad8",
   "metadata": {},
   "outputs": [],
   "source": [
    "x, y = flipped.linspace()"
   ]
  },
  {
   "cell_type": "code",
   "execution_count": 30,
   "id": "6209df3b",
   "metadata": {
    "scrolled": true
   },
   "outputs": [
    {
     "data": {
      "text/plain": [
       "[<matplotlib.lines.Line2D at 0x1d194ae8f70>]"
      ]
     },
     "execution_count": 30,
     "metadata": {},
     "output_type": "execute_result"
    },
    {
     "data": {
      "image/png": "[encoded data removed]",
      "text/plain": [
       "<Figure size 432x288 with 1 Axes>"
      ]
     },
     "metadata": {
      "needs_background": "light"
     },
     "output_type": "display_data"
    }
   ],
   "source": [
    "plt.plot(x,y)"
   ]
  },
  {
   "cell_type": "markdown",
   "id": "b793da53",
   "metadata": {},
   "source": [
    "## Pseudo Code\n",
    "\n",
    "S4 is essentially a flipped polynomial with a line graph after a certain amount of time.\n",
    "\n",
    "1) Random time_started  \n",
    "2) Create polynomial based on root_1 and root_2 such that 15 < root_2 - root_1 < 20 (refer to important note below)\n",
    "3) Find x0, y0 (coordinates of max)   \n",
    "4) poly_time_ended = random number from x0 - root_2 that defines when the line graph starts  \n",
    "5) Line graph defined such that y=polynomial(poly_time_ended)  \n",
    "6) Operate for Tc time  \n",
    "\n",
    "Important Notes:\n",
    "root_2 - root_1 = 20 then max height becomes 100\n",
    "root_2 - root_1 = 15 then max height becomes ~55"
   ]
  },
  {
   "cell_type": "code",
   "execution_count": 31,
   "id": "492d5ae8",
   "metadata": {},
   "outputs": [],
   "source": [
    "from numpy.polynomial import polynomial as P\n",
    "# time_started: when does motor start?\n",
    "# root_1 first root of quadratic function\n",
    "# root_2 second root of quadratic. Note root_2 = root_1 + (value between 15 - 20) \n",
    "# x0,y0 is coordinates of max height of polynomial\n",
    "# poly_time_ended is a x value from the (halfway point of x0 and root_2) and (3/4 point of x0 and root_2)\n",
    "# tc: operation time at constant load\n",
    "def s4_constants(): \n",
    "    time_started = random.randint(0, start_time)\n",
    "    root_1 = time_started\n",
    "    root_2 = random.randint(root_1+15, root_1+20)\n",
    "    \n",
    "    p = P.Polynomial.fromroots([root_1,root_2])\n",
    "    flipped_p = -p\n",
    "    \n",
    "    c, b, a = flipped_p.coef\n",
    "    x0 = -b/(2*a)\n",
    "    y0 = flipped_p(x0)\n",
    "    \n",
    "    \n",
    "    poly_time_ended = random.randint(int(x0 + (root_2 - x0) / 1.5), int(root_2 - (root_2 - x0)/4))\n",
    "    y_line = flipped_p(poly_time_ended)\n",
    "    \n",
    "    tc = random.randint(10, 30)\n",
    "    return time_started, flipped_p, x0, y0, poly_time_ended,  y_line, tc\n",
    "\n",
    "# If x < time_started, motor didn't start yet \n",
    "# If time_started < x < poly_time_ended, currently in polynomial mode thus return poly(x)\n",
    "# If poly_time_ended < x < poly_time_ended + tc, currently in line mode at where y = y_line \n",
    "def s4(x, time_started, flipped_p, x0, y0, poly_time_ended,  y_line, tc):\n",
    " if(x < time_started): return 0\n",
    " if(time_started < x <= poly_time_ended): return flipped_p(x)\n",
    " if(poly_time_ended <= x < poly_time_ended + tc): return y_line\n",
    " else: return 0\n",
    "\n",
    "lists = []\n",
    "\n",
    "# Generate a run of S4\n",
    "def s4_generator():\n",
    "    # Return a numpy array starting at 0-end_time with 1 as the increment\n",
    "    x = np.arange(0, end_time, 1)\n",
    "\n",
    "    # Get the a and b constant for this run\n",
    "    time_started, flipped_p, x0, y0, poly_time_ended,  y_line, tc= s4_constants()\n",
    "\n",
    "    # Use the s1 function to get the results for each time\n",
    "    y = []\n",
    "    for i in range(len(x)):\n",
    "       y.append(s4(x[i],time_started, flipped_p, x0, y0, poly_time_ended,  y_line, tc))\n",
    "    return y\n"
   ]
  },
  {
   "cell_type": "code",
   "execution_count": 32,
   "id": "0b3a6fd9",
   "metadata": {},
   "outputs": [
    {
     "data": {
      "image/png": "[encoded data removed]",
      "text/plain": [
       "<Figure size 432x288 with 1 Axes>"
      ]
     },
     "metadata": {
      "needs_background": "light"
     },
     "output_type": "display_data"
    }
   ],
   "source": [
    "# Plot the results\n",
    "x = np.arange(0, end_time, 1)\n",
    "y = s4_generator()\n",
    "\n",
    "plt.plot(x,y,color='blue', label =\"S4\")\n",
    "ax = plt.gca()\n",
    "ax.set_ylim([-0.1, power+1])\n",
    "ax.legend()\n",
    "plt.xlabel(\"Time (min)\")\n",
    "plt.ylabel(\"Power (W)\")\n",
    "\n",
    "plt.show()"
   ]
  },
  {
   "cell_type": "code",
   "execution_count": null,
   "id": "0e7544b2",
   "metadata": {},
   "outputs": [],
   "source": []
  }
 ],
 "metadata": {
  "kernelspec": {
   "display_name": "Python [conda env:tsc]",
   "language": "python",
   "name": "conda-env-tsc-py"
  },
  "language_info": {
   "codemirror_mode": {
    "name": "ipython",
    "version": 3
   },
   "file_extension": ".py",
   "mimetype": "text/x-python",
   "name": "python",
   "nbconvert_exporter": "python",
   "pygments_lexer": "ipython3",
   "version": "3.9.10"
  }
 },
 "nbformat": 4,
 "nbformat_minor": 5
}
