{
 "cells": [
  {
   "cell_type": "code",
   "execution_count": 1,
   "id": "7d10ebb3",
   "metadata": {},
   "outputs": [],
   "source": [
    "import pandas as pd \n",
    "import numpy as np \n",
    "from sklearn.metrics import accuracy_score"
   ]
  },
  {
   "cell_type": "code",
   "execution_count": 2,
   "id": "43e4f8ed",
   "metadata": {},
   "outputs": [],
   "source": [
    "# Helper function to get classifier name\n",
    "def get_clf_name(estimator):\n",
    "    return(estimator.__class__.__name__)\n",
    "\n",
    "def get_clf_class(clf):\n",
    "    return clf.__class__.__module__.split(\".\")[2]"
   ]
  },
  {
   "cell_type": "markdown",
   "id": "fe701f58",
   "metadata": {},
   "source": [
    "## Dataset\n",
    "Dimensionality: univariate Series length: 251 Train cases: 36 Test cases: 175 Number of classes: 3\n",
    "\n",
    "The arrowhead data consists of outlines of the images of arrowheads. The shapes of the projectile points are converted into a time series using the angle-based method. The classification of projectile points is an important topic in anthropology. The classes are based on shape distinctions such as the presence and location of a notch in the arrow. The problem in the repository is a length normalised version of that used in Ye09shapelets. The three classes are called “Avonlea”, “Clovis” and “Mix”.”\n",
    "\n",
    "Dataset details: http://timeseriesclassification.com/description.php?Dataset=ArrowHead"
   ]
  },
  {
   "cell_type": "code",
   "execution_count": 3,
   "id": "c4bd5790",
   "metadata": {
    "scrolled": false
   },
   "outputs": [
    {
     "name": "stderr",
     "output_type": "stream",
     "text": [
      "C:\\Users\\edwar\\anaconda3\\envs\\tsc\\lib\\site-packages\\sktime\\datatypes\\_series\\_check.py:43: FutureWarning: pandas.Int64Index is deprecated and will be removed from pandas in a future version. Use pandas.Index with the appropriate dtype instead.\n",
      "  VALID_INDEX_TYPES = (pd.Int64Index, pd.RangeIndex, pd.PeriodIndex, pd.DatetimeIndex)\n",
      "C:\\Users\\edwar\\anaconda3\\envs\\tsc\\lib\\site-packages\\sktime\\datatypes\\_hierarchical\\_check.py:50: FutureWarning: pandas.Int64Index is deprecated and will be removed from pandas in a future version. Use pandas.Index with the appropriate dtype instead.\n",
      "  VALID_INDEX_TYPES = (pd.Int64Index, pd.RangeIndex, pd.PeriodIndex, pd.DatetimeIndex)\n",
      "C:\\Users\\edwar\\anaconda3\\envs\\tsc\\lib\\site-packages\\sktime\\datatypes\\_hierarchical\\_check.py:51: FutureWarning: pandas.Int64Index is deprecated and will be removed from pandas in a future version. Use pandas.Index with the appropriate dtype instead.\n",
      "  VALID_MULTIINDEX_TYPES = (pd.Int64Index, pd.RangeIndex)\n",
      "C:\\Users\\edwar\\anaconda3\\envs\\tsc\\lib\\site-packages\\sktime\\datatypes\\_panel\\_check.py:48: FutureWarning: pandas.Int64Index is deprecated and will be removed from pandas in a future version. Use pandas.Index with the appropriate dtype instead.\n",
      "  VALID_INDEX_TYPES = (pd.Int64Index, pd.RangeIndex, pd.PeriodIndex, pd.DatetimeIndex)\n",
      "C:\\Users\\edwar\\anaconda3\\envs\\tsc\\lib\\site-packages\\sktime\\datatypes\\_panel\\_check.py:49: FutureWarning: pandas.Int64Index is deprecated and will be removed from pandas in a future version. Use pandas.Index with the appropriate dtype instead.\n",
      "  VALID_MULTIINDEX_TYPES = (pd.Int64Index, pd.RangeIndex)\n"
     ]
    }
   ],
   "source": [
    "from sktime.datasets import load_gunpoint\n",
    "X_train, y_train = load_gunpoint(split=\"train\", return_X_y=True)\n",
    "X_test, y_test = load_gunpoint(split=\"test\", return_X_y=True)"
   ]
  },
  {
   "cell_type": "markdown",
   "id": "7d9534cd",
   "metadata": {},
   "source": [
    "## Define the classifiers\n",
    "\n",
    "Define which classifiers that will be used and store it in a list"
   ]
  },
  {
   "cell_type": "code",
   "execution_count": 4,
   "id": "d8cf10c2",
   "metadata": {
    "scrolled": false
   },
   "outputs": [],
   "source": [
    "from sktime.classification.dictionary_based import IndividualBOSS\n",
    "from sktime.classification.dictionary_based import ContractableBOSS\n",
    "\n",
    "clfs = []\n",
    "\n",
    "clfs.append(ContractableBOSS(n_parameter_samples=25, max_ensemble_size=5))\n",
    "clfs.append(IndividualBOSS())"
   ]
  },
  {
   "cell_type": "code",
   "execution_count": 5,
   "id": "9104528e",
   "metadata": {},
   "outputs": [],
   "source": [
    "types = []\n",
    "\n",
    "for clf in clfs: \n",
    "    types.append(get_clf_class(clf))"
   ]
  },
  {
   "cell_type": "markdown",
   "id": "4c85cf2a",
   "metadata": {},
   "source": [
    "## Classify the Dataset for every classifier\n",
    "\n",
    "Classify the dataset with each classifier and save their accuracy score"
   ]
  },
  {
   "cell_type": "code",
   "execution_count": 6,
   "id": "8ab287e7",
   "metadata": {},
   "outputs": [],
   "source": [
    "acc_scores = []"
   ]
  },
  {
   "cell_type": "code",
   "execution_count": null,
   "id": "437eb1f5",
   "metadata": {
    "scrolled": true
   },
   "outputs": [],
   "source": [
    "for clf in clfs: \n",
    "    clf.fit(X_train, y_train)\n",
    "    y_pred = clf.predict(X_test)\n",
    "    acc_score =accuracy_score(y_test, y_pred)\n",
    "    acc_scores.append(acc_score)"
   ]
  },
  {
   "cell_type": "markdown",
   "id": "66612d33",
   "metadata": {},
   "source": [
    "## Sort According to Type\n"
   ]
  },
  {
   "cell_type": "code",
   "execution_count": null,
   "id": "712b29e7",
   "metadata": {},
   "outputs": [],
   "source": [
    "types, acc_scores, clfs = zip(*sorted(zip(types, acc_scores, clfs)))"
   ]
  },
  {
   "cell_type": "markdown",
   "id": "eb29e02d",
   "metadata": {},
   "source": [
    "## Print the results\n",
    "\n",
    "Itterate over the classifier and accuracy score and display in a nice \"table\""
   ]
  },
  {
   "cell_type": "code",
   "execution_count": null,
   "id": "ec332419",
   "metadata": {
    "scrolled": false
   },
   "outputs": [],
   "source": [
    "print(f\"{'Type' : <20}{'Name' : <40}{'Accuracy' : <15}\")\n",
    "for type, clf, acc_score in zip(types, clfs, acc_scores):\n",
    "    acc_score_perc = f\"{acc_score*100:.2f}\"\n",
    "    print(f\"{get_clf_class(clf): <20}{get_clf_name(clf) : <40}{(acc_score_perc)+'%':<15}\")\n"
   ]
  }
 ],
 "metadata": {
  "kernelspec": {
   "display_name": "Python [conda env:tsc]",
   "language": "python",
   "name": "conda-env-tsc-py"
  },
  "language_info": {
   "codemirror_mode": {
    "name": "ipython",
    "version": 3
   },
   "file_extension": ".py",
   "mimetype": "text/x-python",
   "name": "python",
   "nbconvert_exporter": "python",
   "pygments_lexer": "ipython3",
   "version": "3.9.10"
  }
 },
 "nbformat": 4,
 "nbformat_minor": 5
}
